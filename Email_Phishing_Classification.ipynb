{
  "metadata": {
    "kernelspec": {
      "language": "python",
      "display_name": "Python 3",
      "name": "python3"
    },
    "language_info": {
      "name": "python",
      "version": "3.11.11",
      "mimetype": "text/x-python",
      "codemirror_mode": {
        "name": "ipython",
        "version": 3
      },
      "pygments_lexer": "ipython3",
      "nbconvert_exporter": "python",
      "file_extension": ".py"
    },
    "kaggle": {
      "accelerator": "none",
      "dataSources": [
        {
          "sourceId": 11233177,
          "sourceType": "datasetVersion",
          "datasetId": 7016979
        }
      ],
      "dockerImageVersionId": 31040,
      "isInternetEnabled": true,
      "language": "python",
      "sourceType": "notebook",
      "isGpuEnabled": false
    },
    "colab": {
      "name": "Email Phishing Classification",
      "provenance": [],
      "toc_visible": true,
      "include_colab_link": true
    }
  },
  "nbformat_minor": 0,
  "nbformat": 4,
  "cells": [
    {
      "cell_type": "markdown",
      "metadata": {
        "id": "view-in-github",
        "colab_type": "text"
      },
      "source": [
        "<a href=\"https://colab.research.google.com/github/yeho/pishing-detection-AI/blob/master/Email_Phishing_Classification.ipynb\" target=\"_parent\"><img src=\"https://colab.research.google.com/assets/colab-badge.svg\" alt=\"Open In Colab\"/></a>"
      ]
    },
    {
      "source": [
        "# IMPORTANT: RUN THIS CELL IN ORDER TO IMPORT YOUR KAGGLE DATA SOURCES,\n",
        "# THEN FEEL FREE TO DELETE THIS CELL.\n",
        "# NOTE: THIS NOTEBOOK ENVIRONMENT DIFFERS FROM KAGGLE'S PYTHON\n",
        "# ENVIRONMENT SO THERE MAY BE MISSING LIBRARIES USED BY YOUR\n",
        "# NOTEBOOK.\n",
        "import kagglehub\n",
        "ethancratchley_email_phishing_dataset_path = kagglehub.dataset_download('ethancratchley/email-phishing-dataset')\n",
        "\n",
        "print('Data source import complete.')\n"
      ],
      "metadata": {
        "id": "lzdJR0v2QSM2",
        "outputId": "db093909-5db8-4c30-f755-fcb29a73039d",
        "colab": {
          "base_uri": "https://localhost:8080/"
        }
      },
      "cell_type": "code",
      "outputs": [
        {
          "output_type": "stream",
          "name": "stdout",
          "text": [
            "Data source import complete.\n"
          ]
        }
      ],
      "execution_count": 1
    },
    {
      "cell_type": "code",
      "source": [
        "import numpy as np\n",
        "import pandas as pd\n",
        "import matplotlib.pyplot as plt\n",
        "import seaborn as sns"
      ],
      "metadata": {
        "_uuid": "8f2839f25d086af736a60e9eeb907d3b93b6e0e5",
        "_cell_guid": "b1076dfc-b9ad-4769-8c92-a6c4dae69d19",
        "trusted": true,
        "execution": {
          "iopub.status.busy": "2025-06-07T03:01:47.20176Z",
          "iopub.execute_input": "2025-06-07T03:01:47.202034Z",
          "iopub.status.idle": "2025-06-07T03:01:48.050302Z",
          "shell.execute_reply.started": "2025-06-07T03:01:47.202016Z",
          "shell.execute_reply": "2025-06-07T03:01:48.049693Z"
        },
        "id": "5zMAUlMgQSM4"
      },
      "outputs": [],
      "execution_count": 2
    },
    {
      "cell_type": "markdown",
      "source": [
        "# Data Loading and inference"
      ],
      "metadata": {
        "id": "owZFJoI7QSM4"
      }
    },
    {
      "cell_type": "code",
      "source": [
        "data = pd.read_csv(\"/kaggle/input/email-phishing-dataset/email_phishing_data.csv\")\n",
        "df = data.copy()\n",
        "df.head()"
      ],
      "metadata": {
        "trusted": true,
        "execution": {
          "iopub.status.busy": "2025-06-07T03:01:48.051208Z",
          "iopub.execute_input": "2025-06-07T03:01:48.051456Z",
          "iopub.status.idle": "2025-06-07T03:01:48.24016Z",
          "shell.execute_reply.started": "2025-06-07T03:01:48.051441Z",
          "shell.execute_reply": "2025-06-07T03:01:48.239277Z"
        },
        "id": "ic6iNAgRQSM5",
        "outputId": "f360e210-3020-4308-aed6-2ccb3b03fd98",
        "colab": {
          "base_uri": "https://localhost:8080/",
          "height": 226
        }
      },
      "outputs": [
        {
          "output_type": "execute_result",
          "data": {
            "text/plain": [
              "   num_words  num_unique_words  num_stopwords  num_links  num_unique_domains  \\\n",
              "0        140                94             52          0                   0   \n",
              "1          5                 5              1          0                   0   \n",
              "2         34                32             15          0                   0   \n",
              "3          6                 6              2          0                   0   \n",
              "4          9                 9              2          0                   0   \n",
              "\n",
              "   num_email_addresses  num_spelling_errors  num_urgent_keywords  label  \n",
              "0                    0                    0                    0      0  \n",
              "1                    0                    0                    0      0  \n",
              "2                    0                    0                    0      0  \n",
              "3                    0                    0                    0      0  \n",
              "4                    0                    0                    0      0  "
            ],
            "text/html": [
              "\n",
              "  <div id=\"df-67c8e1e9-275c-4ecf-8e8c-6c27ad5328e2\" class=\"colab-df-container\">\n",
              "    <div>\n",
              "<style scoped>\n",
              "    .dataframe tbody tr th:only-of-type {\n",
              "        vertical-align: middle;\n",
              "    }\n",
              "\n",
              "    .dataframe tbody tr th {\n",
              "        vertical-align: top;\n",
              "    }\n",
              "\n",
              "    .dataframe thead th {\n",
              "        text-align: right;\n",
              "    }\n",
              "</style>\n",
              "<table border=\"1\" class=\"dataframe\">\n",
              "  <thead>\n",
              "    <tr style=\"text-align: right;\">\n",
              "      <th></th>\n",
              "      <th>num_words</th>\n",
              "      <th>num_unique_words</th>\n",
              "      <th>num_stopwords</th>\n",
              "      <th>num_links</th>\n",
              "      <th>num_unique_domains</th>\n",
              "      <th>num_email_addresses</th>\n",
              "      <th>num_spelling_errors</th>\n",
              "      <th>num_urgent_keywords</th>\n",
              "      <th>label</th>\n",
              "    </tr>\n",
              "  </thead>\n",
              "  <tbody>\n",
              "    <tr>\n",
              "      <th>0</th>\n",
              "      <td>140</td>\n",
              "      <td>94</td>\n",
              "      <td>52</td>\n",
              "      <td>0</td>\n",
              "      <td>0</td>\n",
              "      <td>0</td>\n",
              "      <td>0</td>\n",
              "      <td>0</td>\n",
              "      <td>0</td>\n",
              "    </tr>\n",
              "    <tr>\n",
              "      <th>1</th>\n",
              "      <td>5</td>\n",
              "      <td>5</td>\n",
              "      <td>1</td>\n",
              "      <td>0</td>\n",
              "      <td>0</td>\n",
              "      <td>0</td>\n",
              "      <td>0</td>\n",
              "      <td>0</td>\n",
              "      <td>0</td>\n",
              "    </tr>\n",
              "    <tr>\n",
              "      <th>2</th>\n",
              "      <td>34</td>\n",
              "      <td>32</td>\n",
              "      <td>15</td>\n",
              "      <td>0</td>\n",
              "      <td>0</td>\n",
              "      <td>0</td>\n",
              "      <td>0</td>\n",
              "      <td>0</td>\n",
              "      <td>0</td>\n",
              "    </tr>\n",
              "    <tr>\n",
              "      <th>3</th>\n",
              "      <td>6</td>\n",
              "      <td>6</td>\n",
              "      <td>2</td>\n",
              "      <td>0</td>\n",
              "      <td>0</td>\n",
              "      <td>0</td>\n",
              "      <td>0</td>\n",
              "      <td>0</td>\n",
              "      <td>0</td>\n",
              "    </tr>\n",
              "    <tr>\n",
              "      <th>4</th>\n",
              "      <td>9</td>\n",
              "      <td>9</td>\n",
              "      <td>2</td>\n",
              "      <td>0</td>\n",
              "      <td>0</td>\n",
              "      <td>0</td>\n",
              "      <td>0</td>\n",
              "      <td>0</td>\n",
              "      <td>0</td>\n",
              "    </tr>\n",
              "  </tbody>\n",
              "</table>\n",
              "</div>\n",
              "    <div class=\"colab-df-buttons\">\n",
              "\n",
              "  <div class=\"colab-df-container\">\n",
              "    <button class=\"colab-df-convert\" onclick=\"convertToInteractive('df-67c8e1e9-275c-4ecf-8e8c-6c27ad5328e2')\"\n",
              "            title=\"Convert this dataframe to an interactive table.\"\n",
              "            style=\"display:none;\">\n",
              "\n",
              "  <svg xmlns=\"http://www.w3.org/2000/svg\" height=\"24px\" viewBox=\"0 -960 960 960\">\n",
              "    <path d=\"M120-120v-720h720v720H120Zm60-500h600v-160H180v160Zm220 220h160v-160H400v160Zm0 220h160v-160H400v160ZM180-400h160v-160H180v160Zm440 0h160v-160H620v160ZM180-180h160v-160H180v160Zm440 0h160v-160H620v160Z\"/>\n",
              "  </svg>\n",
              "    </button>\n",
              "\n",
              "  <style>\n",
              "    .colab-df-container {\n",
              "      display:flex;\n",
              "      gap: 12px;\n",
              "    }\n",
              "\n",
              "    .colab-df-convert {\n",
              "      background-color: #E8F0FE;\n",
              "      border: none;\n",
              "      border-radius: 50%;\n",
              "      cursor: pointer;\n",
              "      display: none;\n",
              "      fill: #1967D2;\n",
              "      height: 32px;\n",
              "      padding: 0 0 0 0;\n",
              "      width: 32px;\n",
              "    }\n",
              "\n",
              "    .colab-df-convert:hover {\n",
              "      background-color: #E2EBFA;\n",
              "      box-shadow: 0px 1px 2px rgba(60, 64, 67, 0.3), 0px 1px 3px 1px rgba(60, 64, 67, 0.15);\n",
              "      fill: #174EA6;\n",
              "    }\n",
              "\n",
              "    .colab-df-buttons div {\n",
              "      margin-bottom: 4px;\n",
              "    }\n",
              "\n",
              "    [theme=dark] .colab-df-convert {\n",
              "      background-color: #3B4455;\n",
              "      fill: #D2E3FC;\n",
              "    }\n",
              "\n",
              "    [theme=dark] .colab-df-convert:hover {\n",
              "      background-color: #434B5C;\n",
              "      box-shadow: 0px 1px 3px 1px rgba(0, 0, 0, 0.15);\n",
              "      filter: drop-shadow(0px 1px 2px rgba(0, 0, 0, 0.3));\n",
              "      fill: #FFFFFF;\n",
              "    }\n",
              "  </style>\n",
              "\n",
              "    <script>\n",
              "      const buttonEl =\n",
              "        document.querySelector('#df-67c8e1e9-275c-4ecf-8e8c-6c27ad5328e2 button.colab-df-convert');\n",
              "      buttonEl.style.display =\n",
              "        google.colab.kernel.accessAllowed ? 'block' : 'none';\n",
              "\n",
              "      async function convertToInteractive(key) {\n",
              "        const element = document.querySelector('#df-67c8e1e9-275c-4ecf-8e8c-6c27ad5328e2');\n",
              "        const dataTable =\n",
              "          await google.colab.kernel.invokeFunction('convertToInteractive',\n",
              "                                                    [key], {});\n",
              "        if (!dataTable) return;\n",
              "\n",
              "        const docLinkHtml = 'Like what you see? Visit the ' +\n",
              "          '<a target=\"_blank\" href=https://colab.research.google.com/notebooks/data_table.ipynb>data table notebook</a>'\n",
              "          + ' to learn more about interactive tables.';\n",
              "        element.innerHTML = '';\n",
              "        dataTable['output_type'] = 'display_data';\n",
              "        await google.colab.output.renderOutput(dataTable, element);\n",
              "        const docLink = document.createElement('div');\n",
              "        docLink.innerHTML = docLinkHtml;\n",
              "        element.appendChild(docLink);\n",
              "      }\n",
              "    </script>\n",
              "  </div>\n",
              "\n",
              "\n",
              "    <div id=\"df-638f875e-39e2-4715-a25a-fe8d7f98b772\">\n",
              "      <button class=\"colab-df-quickchart\" onclick=\"quickchart('df-638f875e-39e2-4715-a25a-fe8d7f98b772')\"\n",
              "                title=\"Suggest charts\"\n",
              "                style=\"display:none;\">\n",
              "\n",
              "<svg xmlns=\"http://www.w3.org/2000/svg\" height=\"24px\"viewBox=\"0 0 24 24\"\n",
              "     width=\"24px\">\n",
              "    <g>\n",
              "        <path d=\"M19 3H5c-1.1 0-2 .9-2 2v14c0 1.1.9 2 2 2h14c1.1 0 2-.9 2-2V5c0-1.1-.9-2-2-2zM9 17H7v-7h2v7zm4 0h-2V7h2v10zm4 0h-2v-4h2v4z\"/>\n",
              "    </g>\n",
              "</svg>\n",
              "      </button>\n",
              "\n",
              "<style>\n",
              "  .colab-df-quickchart {\n",
              "      --bg-color: #E8F0FE;\n",
              "      --fill-color: #1967D2;\n",
              "      --hover-bg-color: #E2EBFA;\n",
              "      --hover-fill-color: #174EA6;\n",
              "      --disabled-fill-color: #AAA;\n",
              "      --disabled-bg-color: #DDD;\n",
              "  }\n",
              "\n",
              "  [theme=dark] .colab-df-quickchart {\n",
              "      --bg-color: #3B4455;\n",
              "      --fill-color: #D2E3FC;\n",
              "      --hover-bg-color: #434B5C;\n",
              "      --hover-fill-color: #FFFFFF;\n",
              "      --disabled-bg-color: #3B4455;\n",
              "      --disabled-fill-color: #666;\n",
              "  }\n",
              "\n",
              "  .colab-df-quickchart {\n",
              "    background-color: var(--bg-color);\n",
              "    border: none;\n",
              "    border-radius: 50%;\n",
              "    cursor: pointer;\n",
              "    display: none;\n",
              "    fill: var(--fill-color);\n",
              "    height: 32px;\n",
              "    padding: 0;\n",
              "    width: 32px;\n",
              "  }\n",
              "\n",
              "  .colab-df-quickchart:hover {\n",
              "    background-color: var(--hover-bg-color);\n",
              "    box-shadow: 0 1px 2px rgba(60, 64, 67, 0.3), 0 1px 3px 1px rgba(60, 64, 67, 0.15);\n",
              "    fill: var(--button-hover-fill-color);\n",
              "  }\n",
              "\n",
              "  .colab-df-quickchart-complete:disabled,\n",
              "  .colab-df-quickchart-complete:disabled:hover {\n",
              "    background-color: var(--disabled-bg-color);\n",
              "    fill: var(--disabled-fill-color);\n",
              "    box-shadow: none;\n",
              "  }\n",
              "\n",
              "  .colab-df-spinner {\n",
              "    border: 2px solid var(--fill-color);\n",
              "    border-color: transparent;\n",
              "    border-bottom-color: var(--fill-color);\n",
              "    animation:\n",
              "      spin 1s steps(1) infinite;\n",
              "  }\n",
              "\n",
              "  @keyframes spin {\n",
              "    0% {\n",
              "      border-color: transparent;\n",
              "      border-bottom-color: var(--fill-color);\n",
              "      border-left-color: var(--fill-color);\n",
              "    }\n",
              "    20% {\n",
              "      border-color: transparent;\n",
              "      border-left-color: var(--fill-color);\n",
              "      border-top-color: var(--fill-color);\n",
              "    }\n",
              "    30% {\n",
              "      border-color: transparent;\n",
              "      border-left-color: var(--fill-color);\n",
              "      border-top-color: var(--fill-color);\n",
              "      border-right-color: var(--fill-color);\n",
              "    }\n",
              "    40% {\n",
              "      border-color: transparent;\n",
              "      border-right-color: var(--fill-color);\n",
              "      border-top-color: var(--fill-color);\n",
              "    }\n",
              "    60% {\n",
              "      border-color: transparent;\n",
              "      border-right-color: var(--fill-color);\n",
              "    }\n",
              "    80% {\n",
              "      border-color: transparent;\n",
              "      border-right-color: var(--fill-color);\n",
              "      border-bottom-color: var(--fill-color);\n",
              "    }\n",
              "    90% {\n",
              "      border-color: transparent;\n",
              "      border-bottom-color: var(--fill-color);\n",
              "    }\n",
              "  }\n",
              "</style>\n",
              "\n",
              "      <script>\n",
              "        async function quickchart(key) {\n",
              "          const quickchartButtonEl =\n",
              "            document.querySelector('#' + key + ' button');\n",
              "          quickchartButtonEl.disabled = true;  // To prevent multiple clicks.\n",
              "          quickchartButtonEl.classList.add('colab-df-spinner');\n",
              "          try {\n",
              "            const charts = await google.colab.kernel.invokeFunction(\n",
              "                'suggestCharts', [key], {});\n",
              "          } catch (error) {\n",
              "            console.error('Error during call to suggestCharts:', error);\n",
              "          }\n",
              "          quickchartButtonEl.classList.remove('colab-df-spinner');\n",
              "          quickchartButtonEl.classList.add('colab-df-quickchart-complete');\n",
              "        }\n",
              "        (() => {\n",
              "          let quickchartButtonEl =\n",
              "            document.querySelector('#df-638f875e-39e2-4715-a25a-fe8d7f98b772 button');\n",
              "          quickchartButtonEl.style.display =\n",
              "            google.colab.kernel.accessAllowed ? 'block' : 'none';\n",
              "        })();\n",
              "      </script>\n",
              "    </div>\n",
              "\n",
              "    </div>\n",
              "  </div>\n"
            ],
            "application/vnd.google.colaboratory.intrinsic+json": {
              "type": "dataframe",
              "variable_name": "df"
            }
          },
          "metadata": {},
          "execution_count": 3
        }
      ],
      "execution_count": 3
    },
    {
      "cell_type": "code",
      "source": [
        "df.info()"
      ],
      "metadata": {
        "trusted": true,
        "execution": {
          "iopub.status.busy": "2025-06-07T03:01:48.240937Z",
          "iopub.execute_input": "2025-06-07T03:01:48.241167Z",
          "iopub.status.idle": "2025-06-07T03:01:48.261265Z",
          "shell.execute_reply.started": "2025-06-07T03:01:48.241138Z",
          "shell.execute_reply": "2025-06-07T03:01:48.260167Z"
        },
        "id": "W2f9qTQgQSM5",
        "outputId": "119167bc-e9bc-4187-e2c3-fd7610ffad1b",
        "colab": {
          "base_uri": "https://localhost:8080/"
        }
      },
      "outputs": [
        {
          "output_type": "stream",
          "name": "stdout",
          "text": [
            "<class 'pandas.core.frame.DataFrame'>\n",
            "RangeIndex: 524846 entries, 0 to 524845\n",
            "Data columns (total 9 columns):\n",
            " #   Column               Non-Null Count   Dtype\n",
            "---  ------               --------------   -----\n",
            " 0   num_words            524846 non-null  int64\n",
            " 1   num_unique_words     524846 non-null  int64\n",
            " 2   num_stopwords        524846 non-null  int64\n",
            " 3   num_links            524846 non-null  int64\n",
            " 4   num_unique_domains   524846 non-null  int64\n",
            " 5   num_email_addresses  524846 non-null  int64\n",
            " 6   num_spelling_errors  524846 non-null  int64\n",
            " 7   num_urgent_keywords  524846 non-null  int64\n",
            " 8   label                524846 non-null  int64\n",
            "dtypes: int64(9)\n",
            "memory usage: 36.0 MB\n"
          ]
        }
      ],
      "execution_count": 4
    },
    {
      "cell_type": "code",
      "source": [
        "df.describe()"
      ],
      "metadata": {
        "trusted": true,
        "execution": {
          "iopub.status.busy": "2025-06-07T03:01:48.262543Z",
          "iopub.execute_input": "2025-06-07T03:01:48.262798Z",
          "iopub.status.idle": "2025-06-07T03:01:48.364163Z",
          "shell.execute_reply.started": "2025-06-07T03:01:48.262778Z",
          "shell.execute_reply": "2025-06-07T03:01:48.363429Z"
        },
        "id": "LHrPrQj_QSM5",
        "outputId": "3ef3fd35-37b9-445e-e707-8d1d8e2b4ddc",
        "colab": {
          "base_uri": "https://localhost:8080/",
          "height": 320
        }
      },
      "outputs": [
        {
          "output_type": "execute_result",
          "data": {
            "text/plain": [
              "          num_words  num_unique_words  num_stopwords      num_links  \\\n",
              "count  5.248460e+05     524846.000000  524846.000000  524846.000000   \n",
              "mean   2.762280e+02        123.012167      80.045465       0.895588   \n",
              "std    3.335457e+03        201.626478    1023.330380       5.603001   \n",
              "min    0.000000e+00          0.000000       0.000000       0.000000   \n",
              "25%    4.700000e+01         38.000000      12.000000       0.000000   \n",
              "50%    1.200000e+02         79.000000      34.000000       0.000000   \n",
              "75%    2.690000e+02        145.000000      79.000000       0.000000   \n",
              "max    2.339682e+06      51251.000000  720411.000000     824.000000   \n",
              "\n",
              "       num_unique_domains  num_email_addresses  num_spelling_errors  \\\n",
              "count       524846.000000        524846.000000        524846.000000   \n",
              "mean             0.347767             2.114897            24.694731   \n",
              "std              1.774209            13.592682           311.312358   \n",
              "min              0.000000             0.000000             0.000000   \n",
              "25%              0.000000             0.000000             2.000000   \n",
              "50%              0.000000             0.000000             8.000000   \n",
              "75%              0.000000             1.000000            22.000000   \n",
              "max            524.000000          1150.000000        190104.000000   \n",
              "\n",
              "       num_urgent_keywords          label  \n",
              "count        524846.000000  524846.000000  \n",
              "mean              0.245301       0.013240  \n",
              "std               0.559320       0.114301  \n",
              "min               0.000000       0.000000  \n",
              "25%               0.000000       0.000000  \n",
              "50%               0.000000       0.000000  \n",
              "75%               0.000000       0.000000  \n",
              "max               7.000000       1.000000  "
            ],
            "text/html": [
              "\n",
              "  <div id=\"df-fb89afab-03ab-4fd4-90c2-a93cfc7536ce\" class=\"colab-df-container\">\n",
              "    <div>\n",
              "<style scoped>\n",
              "    .dataframe tbody tr th:only-of-type {\n",
              "        vertical-align: middle;\n",
              "    }\n",
              "\n",
              "    .dataframe tbody tr th {\n",
              "        vertical-align: top;\n",
              "    }\n",
              "\n",
              "    .dataframe thead th {\n",
              "        text-align: right;\n",
              "    }\n",
              "</style>\n",
              "<table border=\"1\" class=\"dataframe\">\n",
              "  <thead>\n",
              "    <tr style=\"text-align: right;\">\n",
              "      <th></th>\n",
              "      <th>num_words</th>\n",
              "      <th>num_unique_words</th>\n",
              "      <th>num_stopwords</th>\n",
              "      <th>num_links</th>\n",
              "      <th>num_unique_domains</th>\n",
              "      <th>num_email_addresses</th>\n",
              "      <th>num_spelling_errors</th>\n",
              "      <th>num_urgent_keywords</th>\n",
              "      <th>label</th>\n",
              "    </tr>\n",
              "  </thead>\n",
              "  <tbody>\n",
              "    <tr>\n",
              "      <th>count</th>\n",
              "      <td>5.248460e+05</td>\n",
              "      <td>524846.000000</td>\n",
              "      <td>524846.000000</td>\n",
              "      <td>524846.000000</td>\n",
              "      <td>524846.000000</td>\n",
              "      <td>524846.000000</td>\n",
              "      <td>524846.000000</td>\n",
              "      <td>524846.000000</td>\n",
              "      <td>524846.000000</td>\n",
              "    </tr>\n",
              "    <tr>\n",
              "      <th>mean</th>\n",
              "      <td>2.762280e+02</td>\n",
              "      <td>123.012167</td>\n",
              "      <td>80.045465</td>\n",
              "      <td>0.895588</td>\n",
              "      <td>0.347767</td>\n",
              "      <td>2.114897</td>\n",
              "      <td>24.694731</td>\n",
              "      <td>0.245301</td>\n",
              "      <td>0.013240</td>\n",
              "    </tr>\n",
              "    <tr>\n",
              "      <th>std</th>\n",
              "      <td>3.335457e+03</td>\n",
              "      <td>201.626478</td>\n",
              "      <td>1023.330380</td>\n",
              "      <td>5.603001</td>\n",
              "      <td>1.774209</td>\n",
              "      <td>13.592682</td>\n",
              "      <td>311.312358</td>\n",
              "      <td>0.559320</td>\n",
              "      <td>0.114301</td>\n",
              "    </tr>\n",
              "    <tr>\n",
              "      <th>min</th>\n",
              "      <td>0.000000e+00</td>\n",
              "      <td>0.000000</td>\n",
              "      <td>0.000000</td>\n",
              "      <td>0.000000</td>\n",
              "      <td>0.000000</td>\n",
              "      <td>0.000000</td>\n",
              "      <td>0.000000</td>\n",
              "      <td>0.000000</td>\n",
              "      <td>0.000000</td>\n",
              "    </tr>\n",
              "    <tr>\n",
              "      <th>25%</th>\n",
              "      <td>4.700000e+01</td>\n",
              "      <td>38.000000</td>\n",
              "      <td>12.000000</td>\n",
              "      <td>0.000000</td>\n",
              "      <td>0.000000</td>\n",
              "      <td>0.000000</td>\n",
              "      <td>2.000000</td>\n",
              "      <td>0.000000</td>\n",
              "      <td>0.000000</td>\n",
              "    </tr>\n",
              "    <tr>\n",
              "      <th>50%</th>\n",
              "      <td>1.200000e+02</td>\n",
              "      <td>79.000000</td>\n",
              "      <td>34.000000</td>\n",
              "      <td>0.000000</td>\n",
              "      <td>0.000000</td>\n",
              "      <td>0.000000</td>\n",
              "      <td>8.000000</td>\n",
              "      <td>0.000000</td>\n",
              "      <td>0.000000</td>\n",
              "    </tr>\n",
              "    <tr>\n",
              "      <th>75%</th>\n",
              "      <td>2.690000e+02</td>\n",
              "      <td>145.000000</td>\n",
              "      <td>79.000000</td>\n",
              "      <td>0.000000</td>\n",
              "      <td>0.000000</td>\n",
              "      <td>1.000000</td>\n",
              "      <td>22.000000</td>\n",
              "      <td>0.000000</td>\n",
              "      <td>0.000000</td>\n",
              "    </tr>\n",
              "    <tr>\n",
              "      <th>max</th>\n",
              "      <td>2.339682e+06</td>\n",
              "      <td>51251.000000</td>\n",
              "      <td>720411.000000</td>\n",
              "      <td>824.000000</td>\n",
              "      <td>524.000000</td>\n",
              "      <td>1150.000000</td>\n",
              "      <td>190104.000000</td>\n",
              "      <td>7.000000</td>\n",
              "      <td>1.000000</td>\n",
              "    </tr>\n",
              "  </tbody>\n",
              "</table>\n",
              "</div>\n",
              "    <div class=\"colab-df-buttons\">\n",
              "\n",
              "  <div class=\"colab-df-container\">\n",
              "    <button class=\"colab-df-convert\" onclick=\"convertToInteractive('df-fb89afab-03ab-4fd4-90c2-a93cfc7536ce')\"\n",
              "            title=\"Convert this dataframe to an interactive table.\"\n",
              "            style=\"display:none;\">\n",
              "\n",
              "  <svg xmlns=\"http://www.w3.org/2000/svg\" height=\"24px\" viewBox=\"0 -960 960 960\">\n",
              "    <path d=\"M120-120v-720h720v720H120Zm60-500h600v-160H180v160Zm220 220h160v-160H400v160Zm0 220h160v-160H400v160ZM180-400h160v-160H180v160Zm440 0h160v-160H620v160ZM180-180h160v-160H180v160Zm440 0h160v-160H620v160Z\"/>\n",
              "  </svg>\n",
              "    </button>\n",
              "\n",
              "  <style>\n",
              "    .colab-df-container {\n",
              "      display:flex;\n",
              "      gap: 12px;\n",
              "    }\n",
              "\n",
              "    .colab-df-convert {\n",
              "      background-color: #E8F0FE;\n",
              "      border: none;\n",
              "      border-radius: 50%;\n",
              "      cursor: pointer;\n",
              "      display: none;\n",
              "      fill: #1967D2;\n",
              "      height: 32px;\n",
              "      padding: 0 0 0 0;\n",
              "      width: 32px;\n",
              "    }\n",
              "\n",
              "    .colab-df-convert:hover {\n",
              "      background-color: #E2EBFA;\n",
              "      box-shadow: 0px 1px 2px rgba(60, 64, 67, 0.3), 0px 1px 3px 1px rgba(60, 64, 67, 0.15);\n",
              "      fill: #174EA6;\n",
              "    }\n",
              "\n",
              "    .colab-df-buttons div {\n",
              "      margin-bottom: 4px;\n",
              "    }\n",
              "\n",
              "    [theme=dark] .colab-df-convert {\n",
              "      background-color: #3B4455;\n",
              "      fill: #D2E3FC;\n",
              "    }\n",
              "\n",
              "    [theme=dark] .colab-df-convert:hover {\n",
              "      background-color: #434B5C;\n",
              "      box-shadow: 0px 1px 3px 1px rgba(0, 0, 0, 0.15);\n",
              "      filter: drop-shadow(0px 1px 2px rgba(0, 0, 0, 0.3));\n",
              "      fill: #FFFFFF;\n",
              "    }\n",
              "  </style>\n",
              "\n",
              "    <script>\n",
              "      const buttonEl =\n",
              "        document.querySelector('#df-fb89afab-03ab-4fd4-90c2-a93cfc7536ce button.colab-df-convert');\n",
              "      buttonEl.style.display =\n",
              "        google.colab.kernel.accessAllowed ? 'block' : 'none';\n",
              "\n",
              "      async function convertToInteractive(key) {\n",
              "        const element = document.querySelector('#df-fb89afab-03ab-4fd4-90c2-a93cfc7536ce');\n",
              "        const dataTable =\n",
              "          await google.colab.kernel.invokeFunction('convertToInteractive',\n",
              "                                                    [key], {});\n",
              "        if (!dataTable) return;\n",
              "\n",
              "        const docLinkHtml = 'Like what you see? Visit the ' +\n",
              "          '<a target=\"_blank\" href=https://colab.research.google.com/notebooks/data_table.ipynb>data table notebook</a>'\n",
              "          + ' to learn more about interactive tables.';\n",
              "        element.innerHTML = '';\n",
              "        dataTable['output_type'] = 'display_data';\n",
              "        await google.colab.output.renderOutput(dataTable, element);\n",
              "        const docLink = document.createElement('div');\n",
              "        docLink.innerHTML = docLinkHtml;\n",
              "        element.appendChild(docLink);\n",
              "      }\n",
              "    </script>\n",
              "  </div>\n",
              "\n",
              "\n",
              "    <div id=\"df-88673541-81bf-47a8-a576-89aaeb00430c\">\n",
              "      <button class=\"colab-df-quickchart\" onclick=\"quickchart('df-88673541-81bf-47a8-a576-89aaeb00430c')\"\n",
              "                title=\"Suggest charts\"\n",
              "                style=\"display:none;\">\n",
              "\n",
              "<svg xmlns=\"http://www.w3.org/2000/svg\" height=\"24px\"viewBox=\"0 0 24 24\"\n",
              "     width=\"24px\">\n",
              "    <g>\n",
              "        <path d=\"M19 3H5c-1.1 0-2 .9-2 2v14c0 1.1.9 2 2 2h14c1.1 0 2-.9 2-2V5c0-1.1-.9-2-2-2zM9 17H7v-7h2v7zm4 0h-2V7h2v10zm4 0h-2v-4h2v4z\"/>\n",
              "    </g>\n",
              "</svg>\n",
              "      </button>\n",
              "\n",
              "<style>\n",
              "  .colab-df-quickchart {\n",
              "      --bg-color: #E8F0FE;\n",
              "      --fill-color: #1967D2;\n",
              "      --hover-bg-color: #E2EBFA;\n",
              "      --hover-fill-color: #174EA6;\n",
              "      --disabled-fill-color: #AAA;\n",
              "      --disabled-bg-color: #DDD;\n",
              "  }\n",
              "\n",
              "  [theme=dark] .colab-df-quickchart {\n",
              "      --bg-color: #3B4455;\n",
              "      --fill-color: #D2E3FC;\n",
              "      --hover-bg-color: #434B5C;\n",
              "      --hover-fill-color: #FFFFFF;\n",
              "      --disabled-bg-color: #3B4455;\n",
              "      --disabled-fill-color: #666;\n",
              "  }\n",
              "\n",
              "  .colab-df-quickchart {\n",
              "    background-color: var(--bg-color);\n",
              "    border: none;\n",
              "    border-radius: 50%;\n",
              "    cursor: pointer;\n",
              "    display: none;\n",
              "    fill: var(--fill-color);\n",
              "    height: 32px;\n",
              "    padding: 0;\n",
              "    width: 32px;\n",
              "  }\n",
              "\n",
              "  .colab-df-quickchart:hover {\n",
              "    background-color: var(--hover-bg-color);\n",
              "    box-shadow: 0 1px 2px rgba(60, 64, 67, 0.3), 0 1px 3px 1px rgba(60, 64, 67, 0.15);\n",
              "    fill: var(--button-hover-fill-color);\n",
              "  }\n",
              "\n",
              "  .colab-df-quickchart-complete:disabled,\n",
              "  .colab-df-quickchart-complete:disabled:hover {\n",
              "    background-color: var(--disabled-bg-color);\n",
              "    fill: var(--disabled-fill-color);\n",
              "    box-shadow: none;\n",
              "  }\n",
              "\n",
              "  .colab-df-spinner {\n",
              "    border: 2px solid var(--fill-color);\n",
              "    border-color: transparent;\n",
              "    border-bottom-color: var(--fill-color);\n",
              "    animation:\n",
              "      spin 1s steps(1) infinite;\n",
              "  }\n",
              "\n",
              "  @keyframes spin {\n",
              "    0% {\n",
              "      border-color: transparent;\n",
              "      border-bottom-color: var(--fill-color);\n",
              "      border-left-color: var(--fill-color);\n",
              "    }\n",
              "    20% {\n",
              "      border-color: transparent;\n",
              "      border-left-color: var(--fill-color);\n",
              "      border-top-color: var(--fill-color);\n",
              "    }\n",
              "    30% {\n",
              "      border-color: transparent;\n",
              "      border-left-color: var(--fill-color);\n",
              "      border-top-color: var(--fill-color);\n",
              "      border-right-color: var(--fill-color);\n",
              "    }\n",
              "    40% {\n",
              "      border-color: transparent;\n",
              "      border-right-color: var(--fill-color);\n",
              "      border-top-color: var(--fill-color);\n",
              "    }\n",
              "    60% {\n",
              "      border-color: transparent;\n",
              "      border-right-color: var(--fill-color);\n",
              "    }\n",
              "    80% {\n",
              "      border-color: transparent;\n",
              "      border-right-color: var(--fill-color);\n",
              "      border-bottom-color: var(--fill-color);\n",
              "    }\n",
              "    90% {\n",
              "      border-color: transparent;\n",
              "      border-bottom-color: var(--fill-color);\n",
              "    }\n",
              "  }\n",
              "</style>\n",
              "\n",
              "      <script>\n",
              "        async function quickchart(key) {\n",
              "          const quickchartButtonEl =\n",
              "            document.querySelector('#' + key + ' button');\n",
              "          quickchartButtonEl.disabled = true;  // To prevent multiple clicks.\n",
              "          quickchartButtonEl.classList.add('colab-df-spinner');\n",
              "          try {\n",
              "            const charts = await google.colab.kernel.invokeFunction(\n",
              "                'suggestCharts', [key], {});\n",
              "          } catch (error) {\n",
              "            console.error('Error during call to suggestCharts:', error);\n",
              "          }\n",
              "          quickchartButtonEl.classList.remove('colab-df-spinner');\n",
              "          quickchartButtonEl.classList.add('colab-df-quickchart-complete');\n",
              "        }\n",
              "        (() => {\n",
              "          let quickchartButtonEl =\n",
              "            document.querySelector('#df-88673541-81bf-47a8-a576-89aaeb00430c button');\n",
              "          quickchartButtonEl.style.display =\n",
              "            google.colab.kernel.accessAllowed ? 'block' : 'none';\n",
              "        })();\n",
              "      </script>\n",
              "    </div>\n",
              "\n",
              "    </div>\n",
              "  </div>\n"
            ],
            "application/vnd.google.colaboratory.intrinsic+json": {
              "type": "dataframe",
              "summary": "{\n  \"name\": \"df\",\n  \"rows\": 8,\n  \"fields\": [\n    {\n      \"column\": \"num_words\",\n      \"properties\": {\n        \"dtype\": \"number\",\n        \"std\": 821235.6254876719,\n        \"min\": 0.0,\n        \"max\": 2339682.0,\n        \"num_unique_values\": 8,\n        \"samples\": [\n          276.22800021339594,\n          120.0,\n          524846.0\n        ],\n        \"semantic_type\": \"\",\n        \"description\": \"\"\n      }\n    },\n    {\n      \"column\": \"num_unique_words\",\n      \"properties\": {\n        \"dtype\": \"number\",\n        \"std\": 183816.51209333638,\n        \"min\": 0.0,\n        \"max\": 524846.0,\n        \"num_unique_values\": 8,\n        \"samples\": [\n          123.01216737862154,\n          79.0,\n          524846.0\n        ],\n        \"semantic_type\": \"\",\n        \"description\": \"\"\n      }\n    },\n    {\n      \"column\": \"num_stopwords\",\n      \"properties\": {\n        \"dtype\": \"number\",\n        \"std\": 292828.7334081356,\n        \"min\": 0.0,\n        \"max\": 720411.0,\n        \"num_unique_values\": 8,\n        \"samples\": [\n          80.04546476490246,\n          34.0,\n          524846.0\n        ],\n        \"semantic_type\": \"\",\n        \"description\": \"\"\n      }\n    },\n    {\n      \"column\": \"num_links\",\n      \"properties\": {\n        \"dtype\": \"number\",\n        \"std\": 185519.3598207453,\n        \"min\": 0.0,\n        \"max\": 524846.0,\n        \"num_unique_values\": 5,\n        \"samples\": [\n          0.8955884202223128,\n          824.0,\n          5.603000600131605\n        ],\n        \"semantic_type\": \"\",\n        \"description\": \"\"\n      }\n    },\n    {\n      \"column\": \"num_unique_domains\",\n      \"properties\": {\n        \"dtype\": \"number\",\n        \"std\": 185534.60015264378,\n        \"min\": 0.0,\n        \"max\": 524846.0,\n        \"num_unique_values\": 5,\n        \"samples\": [\n          0.3477667734916528,\n          524.0,\n          1.7742089473448697\n        ],\n        \"semantic_type\": \"\",\n        \"description\": \"\"\n      }\n    },\n    {\n      \"column\": \"num_email_addresses\",\n      \"properties\": {\n        \"dtype\": \"number\",\n        \"std\": 185502.58963903974,\n        \"min\": 0.0,\n        \"max\": 524846.0,\n        \"num_unique_values\": 6,\n        \"samples\": [\n          524846.0,\n          2.11489656013383,\n          1150.0\n        ],\n        \"semantic_type\": \"\",\n        \"description\": \"\"\n      }\n    },\n    {\n      \"column\": \"num_spelling_errors\",\n      \"properties\": {\n        \"dtype\": \"number\",\n        \"std\": 188089.25358565434,\n        \"min\": 0.0,\n        \"max\": 524846.0,\n        \"num_unique_values\": 8,\n        \"samples\": [\n          24.694731406926984,\n          8.0,\n          524846.0\n        ],\n        \"semantic_type\": \"\",\n        \"description\": \"\"\n      }\n    },\n    {\n      \"column\": \"num_urgent_keywords\",\n      \"properties\": {\n        \"dtype\": \"number\",\n        \"std\": 185560.68866212,\n        \"min\": 0.0,\n        \"max\": 524846.0,\n        \"num_unique_values\": 5,\n        \"samples\": [\n          0.24530052624960463,\n          7.0,\n          0.5593197803001112\n        ],\n        \"semantic_type\": \"\",\n        \"description\": \"\"\n      }\n    },\n    {\n      \"column\": \"label\",\n      \"properties\": {\n        \"dtype\": \"number\",\n        \"std\": 185561.0258901953,\n        \"min\": 0.0,\n        \"max\": 524846.0,\n        \"num_unique_values\": 5,\n        \"samples\": [\n          0.013240074231298323,\n          1.0,\n          0.11430135414021335\n        ],\n        \"semantic_type\": \"\",\n        \"description\": \"\"\n      }\n    }\n  ]\n}"
            }
          },
          "metadata": {},
          "execution_count": 5
        }
      ],
      "execution_count": 5
    },
    {
      "cell_type": "markdown",
      "source": [
        "# Basic Data Analysis"
      ],
      "metadata": {
        "id": "Ni6TF-8lQSM5"
      }
    },
    {
      "cell_type": "code",
      "source": [
        "for i in df.columns:\n",
        "    print(f\"{i}: Max: {df[i].max()}, Min: {df[i].min()}\")"
      ],
      "metadata": {
        "trusted": true,
        "execution": {
          "iopub.status.busy": "2025-06-07T03:01:48.36491Z",
          "iopub.execute_input": "2025-06-07T03:01:48.365089Z",
          "iopub.status.idle": "2025-06-07T03:01:48.37619Z",
          "shell.execute_reply.started": "2025-06-07T03:01:48.365074Z",
          "shell.execute_reply": "2025-06-07T03:01:48.375564Z"
        },
        "id": "TbXdwbbNQSM5",
        "outputId": "f73f30a9-0bea-43d3-d7bc-5ecc4b9b968c",
        "colab": {
          "base_uri": "https://localhost:8080/"
        }
      },
      "outputs": [
        {
          "output_type": "stream",
          "name": "stdout",
          "text": [
            "num_words: Max: 2339682, Min: 0\n",
            "num_unique_words: Max: 51251, Min: 0\n",
            "num_stopwords: Max: 720411, Min: 0\n",
            "num_links: Max: 824, Min: 0\n",
            "num_unique_domains: Max: 524, Min: 0\n",
            "num_email_addresses: Max: 1150, Min: 0\n",
            "num_spelling_errors: Max: 190104, Min: 0\n",
            "num_urgent_keywords: Max: 7, Min: 0\n",
            "label: Max: 1, Min: 0\n"
          ]
        }
      ],
      "execution_count": 6
    },
    {
      "cell_type": "code",
      "source": [
        "for i in df.columns:\n",
        "    print(f\"{i}: {df[i].nunique()}\")"
      ],
      "metadata": {
        "trusted": true,
        "execution": {
          "iopub.status.busy": "2025-06-07T03:01:48.376797Z",
          "iopub.execute_input": "2025-06-07T03:01:48.37699Z",
          "iopub.status.idle": "2025-06-07T03:01:48.423292Z",
          "shell.execute_reply.started": "2025-06-07T03:01:48.37697Z",
          "shell.execute_reply": "2025-06-07T03:01:48.422499Z"
        },
        "id": "1Gx-EubtQSM5",
        "outputId": "8c665b0c-bff3-4ada-e62c-4b2ef487b0cc",
        "colab": {
          "base_uri": "https://localhost:8080/"
        }
      },
      "outputs": [
        {
          "output_type": "stream",
          "name": "stdout",
          "text": [
            "num_words: 4278\n",
            "num_unique_words: 1892\n",
            "num_stopwords: 1885\n",
            "num_links: 197\n",
            "num_unique_domains: 82\n",
            "num_email_addresses: 285\n",
            "num_spelling_errors: 1066\n",
            "num_urgent_keywords: 8\n",
            "label: 2\n"
          ]
        }
      ],
      "execution_count": 7
    },
    {
      "cell_type": "markdown",
      "source": [
        "# Exploratory Data Analysis"
      ],
      "metadata": {
        "id": "Z-HAVbxUQSM6"
      }
    },
    {
      "cell_type": "code",
      "source": [
        "print(df.isnull().sum())"
      ],
      "metadata": {
        "trusted": true,
        "execution": {
          "iopub.status.busy": "2025-06-07T03:01:48.424066Z",
          "iopub.execute_input": "2025-06-07T03:01:48.42427Z",
          "iopub.status.idle": "2025-06-07T03:01:48.434771Z",
          "shell.execute_reply.started": "2025-06-07T03:01:48.424253Z",
          "shell.execute_reply": "2025-06-07T03:01:48.434144Z"
        },
        "id": "vu_sabevQSM6",
        "outputId": "39db295b-f7d3-48d0-c905-75555bad5ba5",
        "colab": {
          "base_uri": "https://localhost:8080/"
        }
      },
      "outputs": [
        {
          "output_type": "stream",
          "name": "stdout",
          "text": [
            "num_words              0\n",
            "num_unique_words       0\n",
            "num_stopwords          0\n",
            "num_links              0\n",
            "num_unique_domains     0\n",
            "num_email_addresses    0\n",
            "num_spelling_errors    0\n",
            "num_urgent_keywords    0\n",
            "label                  0\n",
            "dtype: int64\n"
          ]
        }
      ],
      "execution_count": 8
    },
    {
      "cell_type": "code",
      "source": [
        "sns.countplot(x=\"label\", data=df, palette=\"Set2\")\n",
        "plt.title(\"Distribution of Email Labels\")\n",
        "plt.show()"
      ],
      "metadata": {
        "trusted": true,
        "execution": {
          "iopub.status.busy": "2025-06-07T03:01:48.435234Z",
          "iopub.execute_input": "2025-06-07T03:01:48.43541Z",
          "iopub.status.idle": "2025-06-07T03:01:48.577996Z",
          "shell.execute_reply.started": "2025-06-07T03:01:48.435395Z",
          "shell.execute_reply": "2025-06-07T03:01:48.577386Z"
        },
        "id": "G5myYUUiQSM6",
        "outputId": "ef4a44f9-6395-4a16-a4af-eb5266e859a3",
        "colab": {
          "base_uri": "https://localhost:8080/",
          "height": 581
        }
      },
      "outputs": [
        {
          "output_type": "stream",
          "name": "stderr",
          "text": [
            "<ipython-input-9-4157950703>:1: FutureWarning: \n",
            "\n",
            "Passing `palette` without assigning `hue` is deprecated and will be removed in v0.14.0. Assign the `x` variable to `hue` and set `legend=False` for the same effect.\n",
            "\n",
            "  sns.countplot(x=\"label\", data=df, palette=\"Set2\")\n"
          ]
        },
        {
          "output_type": "display_data",
          "data": {
            "text/plain": [
              "<Figure size 640x480 with 1 Axes>"
            ],
            "image/png": "[encoded data removed]"
          },
          "metadata": {}
        }
      ],
      "execution_count": 9
    },
    {
      "cell_type": "code",
      "source": [
        "plt.figure(figsize=(10, 8))\n",
        "sns.heatmap(df.corr(), annot=True, cmap=\"coolwarm\", fmt=\".2f\", linewidths=0.5)\n",
        "plt.title(\"Correlation Matrix\")\n",
        "plt.show()"
      ],
      "metadata": {
        "trusted": true,
        "execution": {
          "iopub.status.busy": "2025-06-07T03:01:48.578629Z",
          "iopub.execute_input": "2025-06-07T03:01:48.578804Z",
          "iopub.status.idle": "2025-06-07T03:01:49.005879Z",
          "shell.execute_reply.started": "2025-06-07T03:01:48.578791Z",
          "shell.execute_reply": "2025-06-07T03:01:49.005231Z"
        },
        "id": "1_P5bPw3QSM6",
        "outputId": "1bdfc48b-3d66-49b9-d757-58e51ac20268",
        "colab": {
          "base_uri": "https://localhost:8080/",
          "height": 742
        }
      },
      "outputs": [
        {
          "output_type": "display_data",
          "data": {
            "text/plain": [
              "<Figure size 1000x800 with 2 Axes>"
            ],
            "image/png": "[encoded data removed]"
          },
          "metadata": {}
        }
      ],
      "execution_count": 10
    },
    {
      "cell_type": "markdown",
      "source": [
        "1. Words and spelling errors are positively correlated. (More words -> more spelling errors)\n",
        "2. Words and stopwords are very highly correlated (Directly propotional)\n",
        "3. More unique words leads to more spelling errors\n",
        "4. More unique words leads to more number of urgent keywords"
      ],
      "metadata": {
        "id": "zZzr9-RKQSM6"
      }
    },
    {
      "cell_type": "markdown",
      "source": [
        "# Feature Importance"
      ],
      "metadata": {
        "id": "4yQSiPaNQSM6"
      }
    },
    {
      "cell_type": "code",
      "source": [
        "import sklearn\n",
        "from sklearn.ensemble import RandomForestClassifier\n",
        "\n",
        "X = df.drop(\"label\", axis=1)\n",
        "y = df[\"label\"]\n",
        "\n",
        "# model = RandomForestClassifier()\n",
        "# model.fit(X, y)\n",
        "\n",
        "\n",
        "# feat_importances = pd.Series(model.feature_importances_, index=X.columns)\n",
        "# feat_importances.nlargest(10).plot(kind=\"barh\")\n",
        "# plt.title(\"Feature Importance\")\n",
        "# plt.show()"
      ],
      "metadata": {
        "trusted": true,
        "execution": {
          "iopub.status.busy": "2025-06-07T03:04:20.772984Z",
          "iopub.execute_input": "2025-06-07T03:04:20.77323Z",
          "iopub.status.idle": "2025-06-07T03:04:20.79501Z",
          "shell.execute_reply.started": "2025-06-07T03:04:20.773215Z",
          "shell.execute_reply": "2025-06-07T03:04:20.794195Z"
        },
        "id": "9EMREQ44QSM6"
      },
      "outputs": [],
      "execution_count": 11
    },
    {
      "cell_type": "markdown",
      "source": [
        "# Model Training"
      ],
      "metadata": {
        "id": "qipvABSgQSM6"
      }
    },
    {
      "cell_type": "code",
      "source": [
        "from sklearn.model_selection import train_test_split\n",
        "from sklearn.metrics import accuracy_score, classification_report, confusion_matrix"
      ],
      "metadata": {
        "trusted": true,
        "execution": {
          "iopub.status.busy": "2025-06-07T03:01:49.174719Z",
          "iopub.execute_input": "2025-06-07T03:01:49.175055Z",
          "iopub.status.idle": "2025-06-07T03:01:49.179597Z",
          "shell.execute_reply.started": "2025-06-07T03:01:49.175039Z",
          "shell.execute_reply": "2025-06-07T03:01:49.17851Z"
        },
        "id": "XgMQzPsTQSM6"
      },
      "outputs": [],
      "execution_count": 12
    },
    {
      "cell_type": "code",
      "source": [
        "new_cols = [\"num_words\", \"num_unique_words\", \"num_stopwords\", \"num_links\"]\n",
        "X = df[new_cols]"
      ],
      "metadata": {
        "trusted": true,
        "execution": {
          "iopub.status.busy": "2025-06-07T03:03:58.7131Z",
          "iopub.execute_input": "2025-06-07T03:03:58.713352Z",
          "iopub.status.idle": "2025-06-07T03:03:58.720152Z",
          "shell.execute_reply.started": "2025-06-07T03:03:58.713332Z",
          "shell.execute_reply": "2025-06-07T03:03:58.719557Z"
        },
        "id": "AlHpz9AhQSM6"
      },
      "outputs": [],
      "execution_count": 13
    },
    {
      "cell_type": "code",
      "source": [
        "from sklearn.preprocessing import MinMaxScaler\n",
        "from xgboost import XGBClassifier\n",
        "scaler = MinMaxScaler()\n",
        "X_train, X_test, y_train, y_test = train_test_split(X, y, test_size=0.2, random_state=42)\n",
        "scaler.fit(X_train)\n",
        "X_train = scaler.transform(X_train)\n",
        "X_test = scaler.transform(X_test)\n",
        "scale_pos_weight = (len(y_train) - sum(y_train)) / sum(y_train)\n",
        "\n",
        "model = XGBClassifier(\n",
        "    scale_pos_weight=scale_pos_weight,\n",
        "    use_label_encoder=False,\n",
        "    eval_metric=\"logloss\"\n",
        ")\n",
        "\n",
        "model.fit(X_train, y_train)\n",
        "y_pred = model.predict(X_test)\n",
        "\n",
        "accuracy = accuracy_score(y_test, y_pred)\n",
        "print(f\"Model Accuracy: {accuracy:.2f}\")\n",
        "\n",
        "print(\"Classification Report:\\n\", classification_report(y_test, y_pred))\n",
        "\n",
        "plt.figure(figsize=(6, 4))\n",
        "sns.heatmap(confusion_matrix(y_test, y_pred), annot=True, fmt=\"d\")\n",
        "plt.xlabel(\"Predicted Label\")\n",
        "plt.ylabel(\"Actual Label\")\n",
        "plt.title(\"Confusion Matrix\")\n",
        "plt.show()"
      ],
      "metadata": {
        "trusted": true,
        "execution": {
          "iopub.status.busy": "2025-06-07T03:08:21.435769Z",
          "iopub.execute_input": "2025-06-07T03:08:21.436041Z",
          "iopub.status.idle": "2025-06-07T03:08:22.881018Z",
          "shell.execute_reply.started": "2025-06-07T03:08:21.436023Z",
          "shell.execute_reply": "2025-06-07T03:08:22.880256Z"
        },
        "id": "dXp5FM9WQSM7",
        "outputId": "3c0ac521-5c66-4759-9a75-fdcf6f3c2d33",
        "colab": {
          "base_uri": "https://localhost:8080/",
          "height": 698
        }
      },
      "outputs": [
        {
          "output_type": "stream",
          "name": "stderr",
          "text": [
            "/usr/local/lib/python3.11/dist-packages/xgboost/core.py:158: UserWarning: [00:04:37] WARNING: /workspace/src/learner.cc:740: \n",
            "Parameters: { \"use_label_encoder\" } are not used.\n",
            "\n",
            "  warnings.warn(smsg, UserWarning)\n"
          ]
        },
        {
          "output_type": "stream",
          "name": "stdout",
          "text": [
            "Model Accuracy: 0.79\n",
            "Classification Report:\n",
            "               precision    recall  f1-score   support\n",
            "\n",
            "           0       0.99      0.80      0.88    103573\n",
            "           1       0.04      0.66      0.08      1397\n",
            "\n",
            "    accuracy                           0.79    104970\n",
            "   macro avg       0.52      0.73      0.48    104970\n",
            "weighted avg       0.98      0.79      0.87    104970\n",
            "\n"
          ]
        },
        {
          "output_type": "display_data",
          "data": {
            "text/plain": [
              "<Figure size 600x400 with 2 Axes>"
            ],
            "image/png": "[encoded data removed]"
          },
          "metadata": {}
        }
      ],
      "execution_count": 14
    },
    {
      "cell_type": "code",
      "source": [
        "import numpy as np\n",
        "from sklearn.metrics import classification_report\n",
        "\n",
        "y_probs = model.predict_proba(X_test)[:, 1]\n",
        "optimal_thresh = 0.75\n",
        "\n",
        "y_pred_thresh = (y_probs >= optimal_thresh).astype(int)\n",
        "print(classification_report(y_test, y_pred_thresh))"
      ],
      "metadata": {
        "trusted": true,
        "execution": {
          "iopub.status.busy": "2025-06-07T03:08:27.998765Z",
          "iopub.execute_input": "2025-06-07T03:08:27.999022Z",
          "iopub.status.idle": "2025-06-07T03:08:28.162553Z",
          "shell.execute_reply.started": "2025-06-07T03:08:27.999004Z",
          "shell.execute_reply": "2025-06-07T03:08:28.16174Z"
        },
        "id": "_rMt4b7FQSM7",
        "outputId": "569a69f8-d732-4fbd-ff60-c702b610cd05",
        "colab": {
          "base_uri": "https://localhost:8080/"
        }
      },
      "outputs": [
        {
          "output_type": "stream",
          "name": "stdout",
          "text": [
            "              precision    recall  f1-score   support\n",
            "\n",
            "           0       0.99      0.96      0.98    103573\n",
            "           1       0.12      0.37      0.18      1397\n",
            "\n",
            "    accuracy                           0.96    104970\n",
            "   macro avg       0.56      0.67      0.58    104970\n",
            "weighted avg       0.98      0.96      0.97    104970\n",
            "\n"
          ]
        }
      ],
      "execution_count": 15
    },
    {
      "cell_type": "markdown",
      "source": [
        "✅ Achieved 96% accuracy and improved phishing detection F1-score to 0.23, reducing false positives by 2.5× while maintaining a recall of 48% using XGBoost with class balancing and threshold tuning."
      ],
      "metadata": {
        "id": "wQo9Wj-2QSM7"
      }
    },
    {
      "cell_type": "code",
      "source": [
        "# prompt: como puedo integrar un pishing a la prueba para que el modelo lo evalue y me diga si es pishing o no\n",
        "\n",
        "import re\n",
        "import nltk\n",
        "from nltk.corpus import stopwords\n",
        "from sklearn.feature_extraction.text import TfidfVectorizer\n",
        "from sklearn.metrics import classification_report\n",
        "\n",
        "# Download necessary NLTK data (if not already downloaded)\n",
        "try:\n",
        "    nltk.data.find('corpora/stopwords')\n",
        "except nltk.downloader.DownloadError:\n",
        "    nltk.download('stopwords')\n",
        "try:\n",
        "    nltk.data.find('tokenizers/punkt')\n",
        "except nltk.downloader.DownloadError:\n",
        "    nltk.download('punkt')\n",
        "\n",
        "# Define a function to extract features from a single email string\n",
        "def extract_features(email_text):\n",
        "    # Clean the text (remove special characters, lowercase)\n",
        "    cleaned_text = re.sub(r'[^\\w\\s]', '', email_text).lower()\n",
        "\n",
        "    # Tokenize the text\n",
        "    words = nltk.word_tokenize(cleaned_text)\n",
        "\n",
        "    # Calculate number of words\n",
        "    num_words = len(words)\n",
        "\n",
        "    # Calculate number of unique words\n",
        "    num_unique_words = len(set(words))\n",
        "\n",
        "    # Calculate number of stopwords\n",
        "    stop_words = set(stopwords.words('english'))\n",
        "    num_stopwords = sum(1 for word in words if word in stop_words)\n",
        "\n",
        "    # Calculate number of links (simple heuristic: look for \"http\" or \"https\")\n",
        "    num_links = len(re.findall(r'http[s]?://(?:[a-zA-Z]|[0-9]|[$-_@.&+]|[!*\\\\(\\\\),]|(?:%[0-9a-fA-F][0-9a-fA-F]))+', email_text))\n",
        "\n",
        "    return [num_words, num_unique_words, num_stopwords, num_links]\n",
        "\n",
        "# Create a sample phishing email (replace with your actual phishing email text)\n",
        "sample_phishing_email = \"\"\"\n",
        "Subject: Urgent Action Required: Your Account Is On Hold\n",
        "\n",
        "Dear Valued Customer,\n",
        "\n",
        "We have detected unusual activity on your account. To ensure the security of your account, we have temporarily placed it on hold.\n",
        "\n",
        "To reactivate your account, please verify your information by clicking on the link below:\n",
        "\n",
        "https://www.suspicious-login-site.com/verify?userid=123456\n",
        "\n",
        "Failure to verify within 24 hours will result in permanent suspension of your account.\n",
        "\n",
        "Thank you for your cooperation.\n",
        "\n",
        "Sincerely,\n",
        "The Security Team\n",
        "\"\"\"\n",
        "\n",
        "# Extract features from the sample phishing email\n",
        "phishing_features = extract_features(sample_phishing_email)\n",
        "\n",
        "# Scale the extracted features using the same scaler trained on the training data\n",
        "# Ensure the features are in the correct format (e.g., a 2D array) for the scaler\n",
        "phishing_features_scaled = scaler.transform([phishing_features])\n",
        "\n",
        "# Make a prediction using the trained model\n",
        "prediction = model.predict(phishing_features_scaled)\n",
        "prediction_proba = model.predict_proba(phishing_features_scaled)[:, 1]\n",
        "\n",
        "print(\"\\n--- Phishing Email Evaluation ---\")\n",
        "print(f\"Extracted Features: {phishing_features}\")\n",
        "print(f\"Scaled Features: {phishing_features_scaled}\")\n",
        "print(f\"Model Prediction (0: Not Phishing, 1: Phishing): {prediction[0]}\")\n",
        "print(f\"Prediction Probability (Phishing): {prediction_proba[0]:.4f}\")\n",
        "\n",
        "# Interpret the result based on the prediction and the threshold\n",
        "if prediction_proba[0] >= optimal_thresh:\n",
        "    print(f\"Based on the threshold of {optimal_thresh:.2f}, the model classifies this email as: PHISHING\")\n",
        "else:\n",
        "    print(f\"Based on the threshold of {optimal_thresh:.2f}, the model classifies this email as: NOT PHISHING\")\n",
        "\n",
        "# You can repeat this process with other email examples (phishing and legitimate)\n",
        "# to evaluate the model's performance on new data.\n"
      ],
      "metadata": {
        "trusted": true,
        "id": "q28-AjYOQSM7",
        "outputId": "4ec78f54-960c-4f39-9de6-c5ce16ccd952",
        "colab": {
          "base_uri": "https://localhost:8080/",
          "height": 811
        }
      },
      "outputs": [
        {
          "output_type": "error",
          "ename": "AttributeError",
          "evalue": "module 'nltk.downloader' has no attribute 'DownloadError'",
          "traceback": [
            "\u001b[0;31m---------------------------------------------------------------------------\u001b[0m",
            "\u001b[0;31mLookupError\u001b[0m                               Traceback (most recent call last)",
            "\u001b[0;32m<ipython-input-16-2805727766>\u001b[0m in \u001b[0;36m<cell line: 0>\u001b[0;34m()\u001b[0m\n\u001b[1;32m     10\u001b[0m \u001b[0;32mtry\u001b[0m\u001b[0;34m:\u001b[0m\u001b[0;34m\u001b[0m\u001b[0;34m\u001b[0m\u001b[0m\n\u001b[0;32m---> 11\u001b[0;31m     \u001b[0mnltk\u001b[0m\u001b[0;34m.\u001b[0m\u001b[0mdata\u001b[0m\u001b[0;34m.\u001b[0m\u001b[0mfind\u001b[0m\u001b[0;34m(\u001b[0m\u001b[0;34m'corpora/stopwords'\u001b[0m\u001b[0;34m)\u001b[0m\u001b[0;34m\u001b[0m\u001b[0;34m\u001b[0m\u001b[0m\n\u001b[0m\u001b[1;32m     12\u001b[0m \u001b[0;32mexcept\u001b[0m \u001b[0mnltk\u001b[0m\u001b[0;34m.\u001b[0m\u001b[0mdownloader\u001b[0m\u001b[0;34m.\u001b[0m\u001b[0mDownloadError\u001b[0m\u001b[0;34m:\u001b[0m\u001b[0;34m\u001b[0m\u001b[0;34m\u001b[0m\u001b[0m\n",
            "\u001b[0;32m/usr/local/lib/python3.11/dist-packages/nltk/data.py\u001b[0m in \u001b[0;36mfind\u001b[0;34m(resource_name, paths)\u001b[0m\n\u001b[1;32m    578\u001b[0m     \u001b[0mresource_not_found\u001b[0m \u001b[0;34m=\u001b[0m \u001b[0;34mf\"\\n{sep}\\n{msg}\\n{sep}\\n\"\u001b[0m\u001b[0;34m\u001b[0m\u001b[0;34m\u001b[0m\u001b[0m\n\u001b[0;32m--> 579\u001b[0;31m     \u001b[0;32mraise\u001b[0m \u001b[0mLookupError\u001b[0m\u001b[0;34m(\u001b[0m\u001b[0mresource_not_found\u001b[0m\u001b[0;34m)\u001b[0m\u001b[0;34m\u001b[0m\u001b[0;34m\u001b[0m\u001b[0m\n\u001b[0m\u001b[1;32m    580\u001b[0m \u001b[0;34m\u001b[0m\u001b[0m\n",
            "\u001b[0;31mLookupError\u001b[0m: \n**********************************************************************\n  Resource \u001b[93mstopwords\u001b[0m not found.\n  Please use the NLTK Downloader to obtain the resource:\n\n  \u001b[31m>>> import nltk\n  >>> nltk.download('stopwords')\n  \u001b[0m\n  For more information see: https://www.nltk.org/data.html\n\n  Attempted to load \u001b[93mcorpora/stopwords\u001b[0m\n\n  Searched in:\n    - '/root/nltk_data'\n    - '/usr/nltk_data'\n    - '/usr/share/nltk_data'\n    - '/usr/lib/nltk_data'\n    - '/usr/share/nltk_data'\n    - '/usr/local/share/nltk_data'\n    - '/usr/lib/nltk_data'\n    - '/usr/local/lib/nltk_data'\n**********************************************************************\n",
            "\nDuring handling of the above exception, another exception occurred:\n",
            "\u001b[0;31mAttributeError\u001b[0m                            Traceback (most recent call last)",
            "\u001b[0;32m<ipython-input-16-2805727766>\u001b[0m in \u001b[0;36m<cell line: 0>\u001b[0;34m()\u001b[0m\n\u001b[1;32m     10\u001b[0m \u001b[0;32mtry\u001b[0m\u001b[0;34m:\u001b[0m\u001b[0;34m\u001b[0m\u001b[0;34m\u001b[0m\u001b[0m\n\u001b[1;32m     11\u001b[0m     \u001b[0mnltk\u001b[0m\u001b[0;34m.\u001b[0m\u001b[0mdata\u001b[0m\u001b[0;34m.\u001b[0m\u001b[0mfind\u001b[0m\u001b[0;34m(\u001b[0m\u001b[0;34m'corpora/stopwords'\u001b[0m\u001b[0;34m)\u001b[0m\u001b[0;34m\u001b[0m\u001b[0;34m\u001b[0m\u001b[0m\n\u001b[0;32m---> 12\u001b[0;31m \u001b[0;32mexcept\u001b[0m \u001b[0mnltk\u001b[0m\u001b[0;34m.\u001b[0m\u001b[0mdownloader\u001b[0m\u001b[0;34m.\u001b[0m\u001b[0mDownloadError\u001b[0m\u001b[0;34m:\u001b[0m\u001b[0;34m\u001b[0m\u001b[0;34m\u001b[0m\u001b[0m\n\u001b[0m\u001b[1;32m     13\u001b[0m     \u001b[0mnltk\u001b[0m\u001b[0;34m.\u001b[0m\u001b[0mdownload\u001b[0m\u001b[0;34m(\u001b[0m\u001b[0;34m'stopwords'\u001b[0m\u001b[0;34m)\u001b[0m\u001b[0;34m\u001b[0m\u001b[0;34m\u001b[0m\u001b[0m\n\u001b[1;32m     14\u001b[0m \u001b[0;32mtry\u001b[0m\u001b[0;34m:\u001b[0m\u001b[0;34m\u001b[0m\u001b[0;34m\u001b[0m\u001b[0m\n",
            "\u001b[0;31mAttributeError\u001b[0m: module 'nltk.downloader' has no attribute 'DownloadError'"
          ]
        }
      ],
      "execution_count": 16
    }
  ]
}