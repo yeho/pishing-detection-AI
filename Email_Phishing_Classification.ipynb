{
  "metadata": {
    "kernelspec": {
      "language": "python",
      "display_name": "Python 3",
      "name": "python3"
    },
    "language_info": {
      "name": "python",
      "version": "3.11.11",
      "mimetype": "text/x-python",
      "codemirror_mode": {
        "name": "ipython",
        "version": 3
      },
      "pygments_lexer": "ipython3",
      "nbconvert_exporter": "python",
      "file_extension": ".py"
    },
    "kaggle": {
      "accelerator": "none",
      "dataSources": [
        {
          "sourceId": 11233177,
          "sourceType": "datasetVersion",
          "datasetId": 7016979
        }
      ],
      "dockerImageVersionId": 31040,
      "isInternetEnabled": true,
      "language": "python",
      "sourceType": "notebook",
      "isGpuEnabled": false
    },
    "colab": {
      "provenance": [],
      "toc_visible": true,
      "include_colab_link": true
    }
  },
  "nbformat_minor": 0,
  "nbformat": 4,
  "cells": [
    {
      "cell_type": "markdown",
      "metadata": {
        "id": "view-in-github",
        "colab_type": "text"
      },
      "source": [
        "<a href=\"https://colab.research.google.com/github/yeho/pishing-detection-AI/blob/master/Email_Phishing_Classification.ipynb\" target=\"_parent\"><img src=\"https://colab.research.google.com/assets/colab-badge.svg\" alt=\"Open In Colab\"/></a>"
      ]
    },
    {
      "source": [
        "# IMPORTANT: RUN THIS CELL IN ORDER TO IMPORT YOUR KAGGLE DATA SOURCES,\n",
        "# THEN FEEL FREE TO DELETE THIS CELL.\n",
        "# NOTE: THIS NOTEBOOK ENVIRONMENT DIFFERS FROM KAGGLE'S PYTHON\n",
        "# ENVIRONMENT SO THERE MAY BE MISSING LIBRARIES USED BY YOUR\n",
        "# NOTEBOOK.\n",
        "import kagglehub\n",
        "ethancratchley_email_phishing_dataset_path = kagglehub.dataset_download('ethancratchley/email-phishing-dataset')\n",
        "\n",
        "print('Data source import complete.')\n"
      ],
      "metadata": {
        "colab": {
          "base_uri": "https://localhost:8080/"
        },
        "id": "lzdJR0v2QSM2",
        "outputId": "b8f27c57-4f7b-45fd-82a5-bb9f022faf46"
      },
      "cell_type": "code",
      "outputs": [
        {
          "output_type": "stream",
          "name": "stdout",
          "text": [
            "Downloading from https://www.kaggle.com/api/v1/datasets/download/ethancratchley/email-phishing-dataset?dataset_version_number=1...\n"
          ]
        },
        {
          "output_type": "stream",
          "name": "stderr",
          "text": [
            "100%|██████████| 3.18M/3.18M [00:00<00:00, 103MB/s]"
          ]
        },
        {
          "output_type": "stream",
          "name": "stdout",
          "text": [
            "Extracting files...\n",
            "Data source import complete.\n"
          ]
        },
        {
          "output_type": "stream",
          "name": "stderr",
          "text": [
            "\n"
          ]
        }
      ],
      "execution_count": 1
    },
    {
      "cell_type": "code",
      "source": [
        "import numpy as np\n",
        "import pandas as pd\n",
        "import matplotlib.pyplot as plt\n",
        "import seaborn as sns"
      ],
      "metadata": {
        "_uuid": "8f2839f25d086af736a60e9eeb907d3b93b6e0e5",
        "_cell_guid": "b1076dfc-b9ad-4769-8c92-a6c4dae69d19",
        "trusted": true,
        "execution": {
          "iopub.status.busy": "2025-06-07T03:01:47.20176Z",
          "iopub.execute_input": "2025-06-07T03:01:47.202034Z",
          "iopub.status.idle": "2025-06-07T03:01:48.050302Z",
          "shell.execute_reply.started": "2025-06-07T03:01:47.202016Z",
          "shell.execute_reply": "2025-06-07T03:01:48.049693Z"
        },
        "id": "5zMAUlMgQSM4"
      },
      "outputs": [],
      "execution_count": 2
    },
    {
      "cell_type": "markdown",
      "source": [
        "# Data Loading and inference"
      ],
      "metadata": {
        "id": "owZFJoI7QSM4"
      }
    },
    {
      "cell_type": "code",
      "source": [
        "data = pd.read_csv(\"/kaggle/input/email-phishing-dataset/email_phishing_data.csv\")\n",
        "df = data.copy()\n",
        "df.head()"
      ],
      "metadata": {
        "trusted": true,
        "execution": {
          "iopub.status.busy": "2025-06-07T03:01:48.051208Z",
          "iopub.execute_input": "2025-06-07T03:01:48.051456Z",
          "iopub.status.idle": "2025-06-07T03:01:48.24016Z",
          "shell.execute_reply.started": "2025-06-07T03:01:48.051441Z",
          "shell.execute_reply": "2025-06-07T03:01:48.239277Z"
        },
        "colab": {
          "base_uri": "https://localhost:8080/",
          "height": 436
        },
        "id": "ic6iNAgRQSM5",
        "outputId": "81e8be6c-daf6-4d1c-8b2d-081d975fd75c"
      },
      "outputs": [
        {
          "output_type": "error",
          "ename": "FileNotFoundError",
          "evalue": "[Errno 2] No such file or directory: '/kaggle/input/email-phishing-dataset/email_phishing_data.csv'",
          "traceback": [
            "\u001b[0;31m---------------------------------------------------------------------------\u001b[0m",
            "\u001b[0;31mFileNotFoundError\u001b[0m                         Traceback (most recent call last)",
            "\u001b[0;32m<ipython-input-4-3134458218>\u001b[0m in \u001b[0;36m<cell line: 0>\u001b[0;34m()\u001b[0m\n\u001b[0;32m----> 1\u001b[0;31m \u001b[0mdata\u001b[0m \u001b[0;34m=\u001b[0m \u001b[0mpd\u001b[0m\u001b[0;34m.\u001b[0m\u001b[0mread_csv\u001b[0m\u001b[0;34m(\u001b[0m\u001b[0;34m\"/kaggle/input/email-phishing-dataset/email_phishing_data.csv\"\u001b[0m\u001b[0;34m)\u001b[0m\u001b[0;34m\u001b[0m\u001b[0;34m\u001b[0m\u001b[0m\n\u001b[0m\u001b[1;32m      2\u001b[0m \u001b[0mdf\u001b[0m \u001b[0;34m=\u001b[0m \u001b[0mdata\u001b[0m\u001b[0;34m.\u001b[0m\u001b[0mcopy\u001b[0m\u001b[0;34m(\u001b[0m\u001b[0;34m)\u001b[0m\u001b[0;34m\u001b[0m\u001b[0;34m\u001b[0m\u001b[0m\n\u001b[1;32m      3\u001b[0m \u001b[0mdf\u001b[0m\u001b[0;34m.\u001b[0m\u001b[0mhead\u001b[0m\u001b[0;34m(\u001b[0m\u001b[0;34m)\u001b[0m\u001b[0;34m\u001b[0m\u001b[0;34m\u001b[0m\u001b[0m\n",
            "\u001b[0;32m/usr/local/lib/python3.11/dist-packages/pandas/io/parsers/readers.py\u001b[0m in \u001b[0;36mread_csv\u001b[0;34m(filepath_or_buffer, sep, delimiter, header, names, index_col, usecols, dtype, engine, converters, true_values, false_values, skipinitialspace, skiprows, skipfooter, nrows, na_values, keep_default_na, na_filter, verbose, skip_blank_lines, parse_dates, infer_datetime_format, keep_date_col, date_parser, date_format, dayfirst, cache_dates, iterator, chunksize, compression, thousands, decimal, lineterminator, quotechar, quoting, doublequote, escapechar, comment, encoding, encoding_errors, dialect, on_bad_lines, delim_whitespace, low_memory, memory_map, float_precision, storage_options, dtype_backend)\u001b[0m\n\u001b[1;32m   1024\u001b[0m     \u001b[0mkwds\u001b[0m\u001b[0;34m.\u001b[0m\u001b[0mupdate\u001b[0m\u001b[0;34m(\u001b[0m\u001b[0mkwds_defaults\u001b[0m\u001b[0;34m)\u001b[0m\u001b[0;34m\u001b[0m\u001b[0;34m\u001b[0m\u001b[0m\n\u001b[1;32m   1025\u001b[0m \u001b[0;34m\u001b[0m\u001b[0m\n\u001b[0;32m-> 1026\u001b[0;31m     \u001b[0;32mreturn\u001b[0m \u001b[0m_read\u001b[0m\u001b[0;34m(\u001b[0m\u001b[0mfilepath_or_buffer\u001b[0m\u001b[0;34m,\u001b[0m \u001b[0mkwds\u001b[0m\u001b[0;34m)\u001b[0m\u001b[0;34m\u001b[0m\u001b[0;34m\u001b[0m\u001b[0m\n\u001b[0m\u001b[1;32m   1027\u001b[0m \u001b[0;34m\u001b[0m\u001b[0m\n\u001b[1;32m   1028\u001b[0m \u001b[0;34m\u001b[0m\u001b[0m\n",
            "\u001b[0;32m/usr/local/lib/python3.11/dist-packages/pandas/io/parsers/readers.py\u001b[0m in \u001b[0;36m_read\u001b[0;34m(filepath_or_buffer, kwds)\u001b[0m\n\u001b[1;32m    618\u001b[0m \u001b[0;34m\u001b[0m\u001b[0m\n\u001b[1;32m    619\u001b[0m     \u001b[0;31m# Create the parser.\u001b[0m\u001b[0;34m\u001b[0m\u001b[0;34m\u001b[0m\u001b[0m\n\u001b[0;32m--> 620\u001b[0;31m     \u001b[0mparser\u001b[0m \u001b[0;34m=\u001b[0m \u001b[0mTextFileReader\u001b[0m\u001b[0;34m(\u001b[0m\u001b[0mfilepath_or_buffer\u001b[0m\u001b[0;34m,\u001b[0m \u001b[0;34m**\u001b[0m\u001b[0mkwds\u001b[0m\u001b[0;34m)\u001b[0m\u001b[0;34m\u001b[0m\u001b[0;34m\u001b[0m\u001b[0m\n\u001b[0m\u001b[1;32m    621\u001b[0m \u001b[0;34m\u001b[0m\u001b[0m\n\u001b[1;32m    622\u001b[0m     \u001b[0;32mif\u001b[0m \u001b[0mchunksize\u001b[0m \u001b[0;32mor\u001b[0m \u001b[0miterator\u001b[0m\u001b[0;34m:\u001b[0m\u001b[0;34m\u001b[0m\u001b[0;34m\u001b[0m\u001b[0m\n",
            "\u001b[0;32m/usr/local/lib/python3.11/dist-packages/pandas/io/parsers/readers.py\u001b[0m in \u001b[0;36m__init__\u001b[0;34m(self, f, engine, **kwds)\u001b[0m\n\u001b[1;32m   1618\u001b[0m \u001b[0;34m\u001b[0m\u001b[0m\n\u001b[1;32m   1619\u001b[0m         \u001b[0mself\u001b[0m\u001b[0;34m.\u001b[0m\u001b[0mhandles\u001b[0m\u001b[0;34m:\u001b[0m \u001b[0mIOHandles\u001b[0m \u001b[0;34m|\u001b[0m \u001b[0;32mNone\u001b[0m \u001b[0;34m=\u001b[0m \u001b[0;32mNone\u001b[0m\u001b[0;34m\u001b[0m\u001b[0;34m\u001b[0m\u001b[0m\n\u001b[0;32m-> 1620\u001b[0;31m         \u001b[0mself\u001b[0m\u001b[0;34m.\u001b[0m\u001b[0m_engine\u001b[0m \u001b[0;34m=\u001b[0m \u001b[0mself\u001b[0m\u001b[0;34m.\u001b[0m\u001b[0m_make_engine\u001b[0m\u001b[0;34m(\u001b[0m\u001b[0mf\u001b[0m\u001b[0;34m,\u001b[0m \u001b[0mself\u001b[0m\u001b[0;34m.\u001b[0m\u001b[0mengine\u001b[0m\u001b[0;34m)\u001b[0m\u001b[0;34m\u001b[0m\u001b[0;34m\u001b[0m\u001b[0m\n\u001b[0m\u001b[1;32m   1621\u001b[0m \u001b[0;34m\u001b[0m\u001b[0m\n\u001b[1;32m   1622\u001b[0m     \u001b[0;32mdef\u001b[0m \u001b[0mclose\u001b[0m\u001b[0;34m(\u001b[0m\u001b[0mself\u001b[0m\u001b[0;34m)\u001b[0m \u001b[0;34m->\u001b[0m \u001b[0;32mNone\u001b[0m\u001b[0;34m:\u001b[0m\u001b[0;34m\u001b[0m\u001b[0;34m\u001b[0m\u001b[0m\n",
            "\u001b[0;32m/usr/local/lib/python3.11/dist-packages/pandas/io/parsers/readers.py\u001b[0m in \u001b[0;36m_make_engine\u001b[0;34m(self, f, engine)\u001b[0m\n\u001b[1;32m   1878\u001b[0m                 \u001b[0;32mif\u001b[0m \u001b[0;34m\"b\"\u001b[0m \u001b[0;32mnot\u001b[0m \u001b[0;32min\u001b[0m \u001b[0mmode\u001b[0m\u001b[0;34m:\u001b[0m\u001b[0;34m\u001b[0m\u001b[0;34m\u001b[0m\u001b[0m\n\u001b[1;32m   1879\u001b[0m                     \u001b[0mmode\u001b[0m \u001b[0;34m+=\u001b[0m \u001b[0;34m\"b\"\u001b[0m\u001b[0;34m\u001b[0m\u001b[0;34m\u001b[0m\u001b[0m\n\u001b[0;32m-> 1880\u001b[0;31m             self.handles = get_handle(\n\u001b[0m\u001b[1;32m   1881\u001b[0m                 \u001b[0mf\u001b[0m\u001b[0;34m,\u001b[0m\u001b[0;34m\u001b[0m\u001b[0;34m\u001b[0m\u001b[0m\n\u001b[1;32m   1882\u001b[0m                 \u001b[0mmode\u001b[0m\u001b[0;34m,\u001b[0m\u001b[0;34m\u001b[0m\u001b[0;34m\u001b[0m\u001b[0m\n",
            "\u001b[0;32m/usr/local/lib/python3.11/dist-packages/pandas/io/common.py\u001b[0m in \u001b[0;36mget_handle\u001b[0;34m(path_or_buf, mode, encoding, compression, memory_map, is_text, errors, storage_options)\u001b[0m\n\u001b[1;32m    871\u001b[0m         \u001b[0;32mif\u001b[0m \u001b[0mioargs\u001b[0m\u001b[0;34m.\u001b[0m\u001b[0mencoding\u001b[0m \u001b[0;32mand\u001b[0m \u001b[0;34m\"b\"\u001b[0m \u001b[0;32mnot\u001b[0m \u001b[0;32min\u001b[0m \u001b[0mioargs\u001b[0m\u001b[0;34m.\u001b[0m\u001b[0mmode\u001b[0m\u001b[0;34m:\u001b[0m\u001b[0;34m\u001b[0m\u001b[0;34m\u001b[0m\u001b[0m\n\u001b[1;32m    872\u001b[0m             \u001b[0;31m# Encoding\u001b[0m\u001b[0;34m\u001b[0m\u001b[0;34m\u001b[0m\u001b[0m\n\u001b[0;32m--> 873\u001b[0;31m             handle = open(\n\u001b[0m\u001b[1;32m    874\u001b[0m                 \u001b[0mhandle\u001b[0m\u001b[0;34m,\u001b[0m\u001b[0;34m\u001b[0m\u001b[0;34m\u001b[0m\u001b[0m\n\u001b[1;32m    875\u001b[0m                 \u001b[0mioargs\u001b[0m\u001b[0;34m.\u001b[0m\u001b[0mmode\u001b[0m\u001b[0;34m,\u001b[0m\u001b[0;34m\u001b[0m\u001b[0;34m\u001b[0m\u001b[0m\n",
            "\u001b[0;31mFileNotFoundError\u001b[0m: [Errno 2] No such file or directory: '/kaggle/input/email-phishing-dataset/email_phishing_data.csv'"
          ]
        }
      ],
      "execution_count": 4
    },
    {
      "cell_type": "code",
      "source": [
        "df.info()"
      ],
      "metadata": {
        "trusted": true,
        "execution": {
          "iopub.status.busy": "2025-06-07T03:01:48.240937Z",
          "iopub.execute_input": "2025-06-07T03:01:48.241167Z",
          "iopub.status.idle": "2025-06-07T03:01:48.261265Z",
          "shell.execute_reply.started": "2025-06-07T03:01:48.241138Z",
          "shell.execute_reply": "2025-06-07T03:01:48.260167Z"
        },
        "id": "W2f9qTQgQSM5"
      },
      "outputs": [],
      "execution_count": null
    },
    {
      "cell_type": "code",
      "source": [
        "df.describe()"
      ],
      "metadata": {
        "trusted": true,
        "execution": {
          "iopub.status.busy": "2025-06-07T03:01:48.262543Z",
          "iopub.execute_input": "2025-06-07T03:01:48.262798Z",
          "iopub.status.idle": "2025-06-07T03:01:48.364163Z",
          "shell.execute_reply.started": "2025-06-07T03:01:48.262778Z",
          "shell.execute_reply": "2025-06-07T03:01:48.363429Z"
        },
        "id": "LHrPrQj_QSM5"
      },
      "outputs": [],
      "execution_count": null
    },
    {
      "cell_type": "markdown",
      "source": [
        "# Basic Data Analysis"
      ],
      "metadata": {
        "id": "Ni6TF-8lQSM5"
      }
    },
    {
      "cell_type": "code",
      "source": [
        "for i in df.columns:\n",
        "    print(f\"{i}: Max: {df[i].max()}, Min: {df[i].min()}\")"
      ],
      "metadata": {
        "trusted": true,
        "execution": {
          "iopub.status.busy": "2025-06-07T03:01:48.36491Z",
          "iopub.execute_input": "2025-06-07T03:01:48.365089Z",
          "iopub.status.idle": "2025-06-07T03:01:48.37619Z",
          "shell.execute_reply.started": "2025-06-07T03:01:48.365074Z",
          "shell.execute_reply": "2025-06-07T03:01:48.375564Z"
        },
        "id": "TbXdwbbNQSM5"
      },
      "outputs": [],
      "execution_count": null
    },
    {
      "cell_type": "code",
      "source": [
        "for i in df.columns:\n",
        "    print(f\"{i}: {df[i].nunique()}\")"
      ],
      "metadata": {
        "trusted": true,
        "execution": {
          "iopub.status.busy": "2025-06-07T03:01:48.376797Z",
          "iopub.execute_input": "2025-06-07T03:01:48.37699Z",
          "iopub.status.idle": "2025-06-07T03:01:48.423292Z",
          "shell.execute_reply.started": "2025-06-07T03:01:48.37697Z",
          "shell.execute_reply": "2025-06-07T03:01:48.422499Z"
        },
        "id": "1Gx-EubtQSM5"
      },
      "outputs": [],
      "execution_count": null
    },
    {
      "cell_type": "markdown",
      "source": [
        "# Exploratory Data Analysis"
      ],
      "metadata": {
        "id": "Z-HAVbxUQSM6"
      }
    },
    {
      "cell_type": "code",
      "source": [
        "print(df.isnull().sum())"
      ],
      "metadata": {
        "trusted": true,
        "execution": {
          "iopub.status.busy": "2025-06-07T03:01:48.424066Z",
          "iopub.execute_input": "2025-06-07T03:01:48.42427Z",
          "iopub.status.idle": "2025-06-07T03:01:48.434771Z",
          "shell.execute_reply.started": "2025-06-07T03:01:48.424253Z",
          "shell.execute_reply": "2025-06-07T03:01:48.434144Z"
        },
        "id": "vu_sabevQSM6"
      },
      "outputs": [],
      "execution_count": null
    },
    {
      "cell_type": "code",
      "source": [
        "sns.countplot(x=\"label\", data=df, palette=\"Set2\")\n",
        "plt.title(\"Distribution of Email Labels\")\n",
        "plt.show()"
      ],
      "metadata": {
        "trusted": true,
        "execution": {
          "iopub.status.busy": "2025-06-07T03:01:48.435234Z",
          "iopub.execute_input": "2025-06-07T03:01:48.43541Z",
          "iopub.status.idle": "2025-06-07T03:01:48.577996Z",
          "shell.execute_reply.started": "2025-06-07T03:01:48.435395Z",
          "shell.execute_reply": "2025-06-07T03:01:48.577386Z"
        },
        "id": "G5myYUUiQSM6"
      },
      "outputs": [],
      "execution_count": null
    },
    {
      "cell_type": "code",
      "source": [
        "plt.figure(figsize=(10, 8))\n",
        "sns.heatmap(df.corr(), annot=True, cmap=\"coolwarm\", fmt=\".2f\", linewidths=0.5)\n",
        "plt.title(\"Correlation Matrix\")\n",
        "plt.show()"
      ],
      "metadata": {
        "trusted": true,
        "execution": {
          "iopub.status.busy": "2025-06-07T03:01:48.578629Z",
          "iopub.execute_input": "2025-06-07T03:01:48.578804Z",
          "iopub.status.idle": "2025-06-07T03:01:49.005879Z",
          "shell.execute_reply.started": "2025-06-07T03:01:48.578791Z",
          "shell.execute_reply": "2025-06-07T03:01:49.005231Z"
        },
        "id": "1_P5bPw3QSM6"
      },
      "outputs": [],
      "execution_count": null
    },
    {
      "cell_type": "markdown",
      "source": [
        "1. Words and spelling errors are positively correlated. (More words -> more spelling errors)\n",
        "2. Words and stopwords are very highly correlated (Directly propotional)\n",
        "3. More unique words leads to more spelling errors\n",
        "4. More unique words leads to more number of urgent keywords"
      ],
      "metadata": {
        "id": "zZzr9-RKQSM6"
      }
    },
    {
      "cell_type": "markdown",
      "source": [
        "# Feature Importance"
      ],
      "metadata": {
        "id": "4yQSiPaNQSM6"
      }
    },
    {
      "cell_type": "code",
      "source": [
        "import sklearn\n",
        "from sklearn.ensemble import RandomForestClassifier\n",
        "\n",
        "X = df.drop(\"label\", axis=1)\n",
        "y = df[\"label\"]\n",
        "\n",
        "# model = RandomForestClassifier()\n",
        "# model.fit(X, y)\n",
        "\n",
        "\n",
        "# feat_importances = pd.Series(model.feature_importances_, index=X.columns)\n",
        "# feat_importances.nlargest(10).plot(kind=\"barh\")\n",
        "# plt.title(\"Feature Importance\")\n",
        "# plt.show()"
      ],
      "metadata": {
        "trusted": true,
        "execution": {
          "iopub.status.busy": "2025-06-07T03:04:20.772984Z",
          "iopub.execute_input": "2025-06-07T03:04:20.77323Z",
          "iopub.status.idle": "2025-06-07T03:04:20.79501Z",
          "shell.execute_reply.started": "2025-06-07T03:04:20.773215Z",
          "shell.execute_reply": "2025-06-07T03:04:20.794195Z"
        },
        "id": "9EMREQ44QSM6"
      },
      "outputs": [],
      "execution_count": null
    },
    {
      "cell_type": "markdown",
      "source": [
        "# Model Training"
      ],
      "metadata": {
        "id": "qipvABSgQSM6"
      }
    },
    {
      "cell_type": "code",
      "source": [
        "from sklearn.model_selection import train_test_split\n",
        "from sklearn.metrics import accuracy_score, classification_report, confusion_matrix"
      ],
      "metadata": {
        "trusted": true,
        "execution": {
          "iopub.status.busy": "2025-06-07T03:01:49.174719Z",
          "iopub.execute_input": "2025-06-07T03:01:49.175055Z",
          "iopub.status.idle": "2025-06-07T03:01:49.179597Z",
          "shell.execute_reply.started": "2025-06-07T03:01:49.175039Z",
          "shell.execute_reply": "2025-06-07T03:01:49.17851Z"
        },
        "id": "XgMQzPsTQSM6"
      },
      "outputs": [],
      "execution_count": null
    },
    {
      "cell_type": "code",
      "source": [
        "new_cols = [\"num_words\", \"num_unique_words\", \"num_stopwords\", \"num_links\"]\n",
        "X = df[new_cols]"
      ],
      "metadata": {
        "trusted": true,
        "execution": {
          "iopub.status.busy": "2025-06-07T03:03:58.7131Z",
          "iopub.execute_input": "2025-06-07T03:03:58.713352Z",
          "iopub.status.idle": "2025-06-07T03:03:58.720152Z",
          "shell.execute_reply.started": "2025-06-07T03:03:58.713332Z",
          "shell.execute_reply": "2025-06-07T03:03:58.719557Z"
        },
        "id": "AlHpz9AhQSM6"
      },
      "outputs": [],
      "execution_count": null
    },
    {
      "cell_type": "code",
      "source": [
        "from sklearn.preprocessing import MinMaxScaler\n",
        "from xgboost import XGBClassifier\n",
        "scaler = MinMaxScaler()\n",
        "X_train, X_test, y_train, y_test = train_test_split(X, y, test_size=0.2, random_state=42)\n",
        "scaler.fit(X_train)\n",
        "X_train = scaler.transform(X_train)\n",
        "X_test = scaler.transform(X_test)\n",
        "scale_pos_weight = (len(y_train) - sum(y_train)) / sum(y_train)\n",
        "\n",
        "model = XGBClassifier(\n",
        "    scale_pos_weight=scale_pos_weight,\n",
        "    use_label_encoder=False,\n",
        "    eval_metric=\"logloss\"\n",
        ")\n",
        "\n",
        "model.fit(X_train, y_train)\n",
        "y_pred = model.predict(X_test)\n",
        "\n",
        "accuracy = accuracy_score(y_test, y_pred)\n",
        "print(f\"Model Accuracy: {accuracy:.2f}\")\n",
        "\n",
        "print(\"Classification Report:\\n\", classification_report(y_test, y_pred))\n",
        "\n",
        "plt.figure(figsize=(6, 4))\n",
        "sns.heatmap(confusion_matrix(y_test, y_pred), annot=True, fmt=\"d\")\n",
        "plt.xlabel(\"Predicted Label\")\n",
        "plt.ylabel(\"Actual Label\")\n",
        "plt.title(\"Confusion Matrix\")\n",
        "plt.show()"
      ],
      "metadata": {
        "trusted": true,
        "execution": {
          "iopub.status.busy": "2025-06-07T03:08:21.435769Z",
          "iopub.execute_input": "2025-06-07T03:08:21.436041Z",
          "iopub.status.idle": "2025-06-07T03:08:22.881018Z",
          "shell.execute_reply.started": "2025-06-07T03:08:21.436023Z",
          "shell.execute_reply": "2025-06-07T03:08:22.880256Z"
        },
        "id": "dXp5FM9WQSM7"
      },
      "outputs": [],
      "execution_count": null
    },
    {
      "cell_type": "code",
      "source": [
        "import numpy as np\n",
        "from sklearn.metrics import classification_report\n",
        "\n",
        "y_probs = model.predict_proba(X_test)[:, 1]\n",
        "optimal_thresh = 0.75\n",
        "\n",
        "y_pred_thresh = (y_probs >= optimal_thresh).astype(int)\n",
        "print(classification_report(y_test, y_pred_thresh))"
      ],
      "metadata": {
        "trusted": true,
        "execution": {
          "iopub.status.busy": "2025-06-07T03:08:27.998765Z",
          "iopub.execute_input": "2025-06-07T03:08:27.999022Z",
          "iopub.status.idle": "2025-06-07T03:08:28.162553Z",
          "shell.execute_reply.started": "2025-06-07T03:08:27.999004Z",
          "shell.execute_reply": "2025-06-07T03:08:28.16174Z"
        },
        "id": "_rMt4b7FQSM7"
      },
      "outputs": [],
      "execution_count": null
    },
    {
      "cell_type": "markdown",
      "source": [
        "✅ Achieved 96% accuracy and improved phishing detection F1-score to 0.23, reducing false positives by 2.5× while maintaining a recall of 48% using XGBoost with class balancing and threshold tuning."
      ],
      "metadata": {
        "id": "wQo9Wj-2QSM7"
      }
    },
    {
      "cell_type": "code",
      "source": [
        "# prompt: como puedo integrar un pishing a la prueba para que el modelo lo evalue y me diga si es pishing o no, toma el contexto del codigo de arriba (nombres de variables que ya existen etc), quiero que pueda admitir el codigo html del correo o solo el texto cualquiera de los dos\n",
        "\n",
        "import pandas as pd\n",
        "import re\n",
        "from bs4 import BeautifulSoup\n",
        "import nltk\n",
        "from nltk.corpus import stopwords\n",
        "from nltk.tokenize import word_tokenize, sent_tokenize # Import sent_tokenize explicitly\n",
        "\n",
        "# Ensure necessary NLTK data is downloaded\n",
        "try:\n",
        "    # Attempt to access a resource to check if punkt is downloaded\n",
        "    sent_tokenize(\"This is a test sentence.\")\n",
        "    stopwords = stopwords.words('english')\n",
        "except LookupError:\n",
        "    print(\"NLTK data not found. Downloading necessary resources...\")\n",
        "    nltk.download('stopwords')\n",
        "    nltk.download('punkt')\n",
        "    nltk.download('punkt_tab') # Explicitly download punkt_tab\n",
        "    stopwords = stopwords.words('english')\n",
        "    print(\"NLTK data download complete.\")\n",
        "\n",
        "\n",
        "def extract_text_from_html(html_content):\n",
        "    \"\"\"Extracts plain text from HTML content.\"\"\"\n",
        "    if not html_content:\n",
        "        return \"\"\n",
        "    soup = BeautifulSoup(html_content, 'html.parser')\n",
        "    return soup.get_text(separator=' ', strip=True)\n",
        "\n",
        "def count_words(text):\n",
        "    \"\"\"Counts the total number of words in a text.\"\"\"\n",
        "    if not text:\n",
        "        return 0\n",
        "    words = word_tokenize(text)\n",
        "    return len(words)\n",
        "\n",
        "def count_unique_words(text):\n",
        "    \"\"\"Counts the number of unique words in a text.\"\"\"\n",
        "    if not text:\n",
        "        return 0\n",
        "    words = word_tokenize(text.lower())\n",
        "    return len(set(words))\n",
        "\n",
        "def count_stopwords(text):\n",
        "    \"\"\"Counts the number of stopwords in a text.\"\"\"\n",
        "    if not text:\n",
        "        return 0\n",
        "    words = word_tokenize(text.lower())\n",
        "    return len([word for word in words if word in stopwords])\n",
        "\n",
        "def count_links(text):\n",
        "    \"\"\"Counts the number of links (URLs) in a text (simplified).\"\"\"\n",
        "    if not text:\n",
        "        return 0\n",
        "    # A simple regex to find URLs\n",
        "    urls = re.findall(r'http[s]?://(?:[a-zA-Z]|[0-9]|[$-_@.&+]|[!*\\\\(\\\\),]|(?:%[0-9a-fA-F][0-9a-fA-F]))+', text)\n",
        "    return len(urls)\n",
        "\n",
        "\n",
        "def predict_phishing(email_content, model, scaler):\n",
        "    \"\"\"\n",
        "    Predicts if an email is phishing using the trained model.\n",
        "\n",
        "    Args:\n",
        "        email_content (str): The content of the email (can be plain text or HTML).\n",
        "        model: The trained XGBoost model.\n",
        "        scaler: The fitted MinMaxScaler.\n",
        "\n",
        "    Returns:\n",
        "        str: 'Phishing' or 'Not Phishing'.\n",
        "        float: The probability of being phishing.\n",
        "    \"\"\"\n",
        "    # Try to extract text if it seems like HTML\n",
        "    if bool(BeautifulSoup(email_content, \"html.parser\").find()):\n",
        "         text_content = extract_text_from_html(email_content)\n",
        "    else:\n",
        "         text_content = email_content\n",
        "\n",
        "    # Extract features\n",
        "    num_words = count_words(text_content)\n",
        "    num_unique_words = count_unique_words(text_content)\n",
        "    num_stopwords = count_stopwords(text_content)\n",
        "    num_links = count_links(text_content)\n",
        "\n",
        "    # Create a DataFrame for the input features\n",
        "    input_data = pd.DataFrame([[num_words, num_unique_words, num_stopwords, num_links]],\n",
        "                               columns=[\"num_words\", \"num_unique_words\", \"num_stopwords\", \"num_links\"])\n",
        "\n",
        "    # Scale the input data using the same scaler trained on the training data\n",
        "    scaled_input_data = scaler.transform(input_data)\n",
        "\n",
        "    # Predict the probability\n",
        "    phishing_prob = model.predict_proba(scaled_input_data)[:, 1][0]\n",
        "\n",
        "    # Make a prediction based on the optimal threshold (or 0.5 if threshold tuning wasn't used)\n",
        "    # We'll use the optimal_thresh identified in the original notebook\n",
        "    prediction = 'Phishing' if phishing_prob >= optimal_thresh else 'Not Phishing'\n",
        "\n",
        "    return prediction, phishing_prob\n",
        "\n",
        "# Example Usage:\n",
        "\n",
        "# Define some example email content (replace with actual email content)\n",
        "# Example of a potentially phishing email (simplified)\n",
        "phishing_email_html = \"\"\"\n",
        "<meta http-equiv=\"Content-Type\" content=\"text/html; charset=utf-8\"><table dir=\"ltr\" style=\"height: 323px;\">\n",
        "<tbody>\n",
        "<tr style=\"height: 22px;\">\n",
        "<td id=\"i1\" style=\"padding: 0px; font-family: 'Segoe UI Semibold', 'Segoe UI Bold', 'Segoe UI', 'Helvetica Neue Medium', Arial, sans-serif; font-size: 17px; color: #707070; height: 22px; width: 696px;\">Microsoft account</td>\n",
        "</tr>\n",
        "<tr style=\"height: 53px;\">\n",
        "<td id=\"i2\" style=\"padding: 0px; font-family: 'Segoe UI Light', 'Segoe UI', 'Helvetica Neue Medium', Arial, sans-serif; font-size: 41px; color: #2672ec; height: 53px; width: 696px;\">Unusual sign.in activity</td>\n",
        "</tr>\n",
        "<tr style=\"height: 18px;\">\n",
        "<td id=\"i3\" style=\"padding: 25px 0px 0px; font-size: 14px; font-family: 'Segoe UI', Tahoma, Verdana, Arial, sans-serif; color: #2a2a2a; height: 18px; width: 696px;\">We detected something unusual about a recent sign-in to the Microsoft account <a id=\"iAccount\" class=\"link\" dir=\"ltr\" style=\"color: #2672ec; text-decoration: none;\" href=\"mailto:sotrecognizd@gmail.com?&amp;cc=sotrecognizd@gmail.com&amp;Subject=Report+The+User\">phishing@pot</a>.</td>\n",
        "</tr>\n",
        "<tr style=\"height: 18px;\">\n",
        "<td id=\"i4\" style=\"padding: 25px 0px 0px; font-family: 'Segoe UI Bold', 'Segoe UI Semibold', 'Segoe UI', 'Helvetica Neue Medium', Arial, sans-serif; font-size: 14px; font-weight: bold; color: #2a2a2a; height: 18px; width: 696px;\"><strong>Sign-in details</strong></td>\n",
        "</tr>\n",
        "<tr style=\"height: 18px;\">\n",
        "<td id=\"i5\" style=\"padding: 6px 0px 0px; font-family: 'Segoe UI', Tahoma, Verdana, Arial, sans-serif; font-size: 14px; color: #2a2a2a; height: 18px; width: 696px;\">Country/region: <strong>Russia/Moscow</strong></td>\n",
        "</tr>\n",
        "<tr style=\"height: 18px;\">\n",
        "<td id=\"i6\" style=\"padding: 6px 0px 0px; font-family: 'Segoe UI', Tahoma, Verdana, Arial, sans-serif; font-size: 14px; color: #2a2a2a; height: 18px; width: 696px;\">IP address: <strong>103.225.77.255</strong></td>\n",
        "</tr>\n",
        "<tr style=\"height: 18px;\">\n",
        "<td id=\"i7\" style=\"padding: 6px 0px 0px; font-family: 'Segoe UI', Tahoma, Verdana, Arial, sans-serif; font-size: 14px; color: #2a2a2a; height: 18px; width: 696px;\">Date: <strong>Fri, 08 Sep 2023 05:46:57 +0000</strong></td>\n",
        "</tr>\n",
        "<tr style=\"height: 18px;\">\n",
        "<td id=\"i8\" style=\"padding: 6px 0px 0px; font-family: 'Segoe UI', Tahoma, Verdana, Arial, sans-serif; font-size: 14px; color: #2a2a2a; height: 18px; width: 696px;\">Platform: <strong>Windows 10</strong></td>\n",
        "</tr>\n",
        "<tr style=\"height: 18px;\">\n",
        "<td id=\"i9\" style=\"padding: 6px 0px 0px; font-family: 'Segoe UI', Tahoma, Verdana, Arial, sans-serif; font-size: 14px; color: #2a2a2a; height: 18px; width: 696px;\">Browser: <strong>Firefox</strong></td>\n",
        "</tr>\n",
        "<tr style=\"height: 36px;\">\n",
        "<td id=\"i10\" style=\"padding: 25px 0px 0px; font-family: 'Segoe UI', Tahoma, Verdana, Arial, sans-serif; font-size: 14px; color: #2a2a2a; height: 36px; width: 696px;\">A user from <strong>Russia/Moscow</strong> just logged into your account from a new device, If this wasn't you, please report the user. If this was you, we'll trust similar activity in the future.</td>\n",
        "</tr>\n",
        "<tr style=\"height: 32px;\">\n",
        "<td style=\"padding: 25px 0px 0px; font-family: 'Segoe UI', Tahoma, Verdana, Arial, sans-serif; font-size: 14px; color: #2a2a2a; height: 32px; width: 696px;\">\n",
        "<table border=\"0\" cellspacing=\"0\">\n",
        "<tbody>\n",
        "<tr>\n",
        "<td style=\"background-color: #2672ec; min-width: 50px; padding: 5px 20px 5px 20px;\" bgcolor=\"#2672ec\"><a id=\"i11\" style=\"font-family: 'Segoe UI Semibold', 'Segoe UI Bold', 'Segoe UI', 'Helvetica Neue Medium', Arial, sans-serif; font-size: 14px; text-align: center; text-decoration: none; font-weight: 600; letter-spacing: 0.02em; color: #fff;\" href=\"mailto:sotrecognizd@gmail.com?&amp;cc=sotrecognizd@gmail.com&amp;subject=unusual signin activity&amp;body=Report The User\">Report The User</a></td>\n",
        "</tr>\n",
        "</tbody>\n",
        "</table>\n",
        "</td>\n",
        "</tr>\n",
        "<tr style=\"height: 18px;\">\n",
        "<td id=\"i12\" style=\"padding: 25px 0px 0px; font-family: 'Segoe UI', Tahoma, Verdana, Arial, sans-serif; font-size: 14px; color: #2a2a2a; height: 18px; width: 696px;\">To opt out or change where you receive security notifications, <a id=\"iLink5\" class=\"link\" style=\"color: #2672ec; text-decoration: none;\" href=\"mailto:sotrecognizd@gmail.com?&amp;cc=sotrecognizd@gmail.com&amp;Subject=Unsubscribe+me\">click here</a>.</td>\n",
        "</tr>\n",
        "<tr style=\"height: 18px;\">\n",
        "<td id=\"i13\" style=\"padding: 25px 0px 0px; font-family: 'Segoe UI', Tahoma, Verdana, Arial, sans-serif; font-size: 14px; color: #2a2a2a; height: 18px; width: 696px;\">Thanks,</td>\n",
        "</tr>\n",
        "<tr style=\"height: 18px;\">\n",
        "<td id=\"i14\" style=\"padding: 0px; font-family: 'Segoe UI', Tahoma, Verdana, Arial, sans-serif; font-size: 14px; color: #2a2a2a; height: 18px; width: 696px;\">The Microsoft account team</td>\n",
        "</tr>\n",
        "<img alt=\"\" src=\"http://thebandalisty.com/track/o43062rdzGz18708448Gdrw1821750fYo33632dSjh176\" width=\"1px\" height=\"1px\" style=\"visibility:hidden\">\n",
        "</tbody>\n",
        "</table>\n",
        "\n",
        "\"\"\"\n",
        "\n",
        "# Example of a non-phishing email (simplified)\n",
        "non_phishing_email_text = \"\"\"\n",
        "Microsoft account\n",
        "Unusual sign.in activity\n",
        "We detected something unusual about a recent sign-in to the Microsoft account phishing@pot.\n",
        "Sign-in details\n",
        "Country/region: Russia/Moscow\n",
        "IP address: 103.225.77.255\n",
        "Date: Fri, 08 Sep 2023 05:46:57 +0000\n",
        "Platform: Windows 10\n",
        "Browser: Firefox\n",
        "A user from Russia/Moscow just logged into your account from a new device, If this wasn't you, please report the user. If this was you, we'll trust similar activity in the future.\n",
        "Report The User\n",
        "To opt out or change where you receive security notifications, click here.\n",
        "Thanks,\n",
        "The Microsoft account team\n",
        "\"\"\"\n",
        "\n",
        "# Predict on the example emails\n",
        "phishing_prediction, phishing_prob = predict_phishing(phishing_email_html, model, scaler)\n",
        "print(f\"Phishing Email Prediction: {phishing_prediction}, Probability: {phishing_prob:.4f}\")\n",
        "\n",
        "non_phishing_prediction, non_phishing_prob = predict_phishing(non_phishing_email_text, model, scaler)\n",
        "print(f\"Non-Phishing Email Prediction: {non_phishing_prediction}, Probability: {non_phishing_prob:.4f}\")\n",
        "\n",
        "# You can now use the predict_phishing function with any email content (HTML or text)\n",
        "# For instance, if you had email content in a variable called `email_to_evaluate`:\n",
        "# email_to_evaluate = \"...\" # Your email content here\n",
        "# prediction, probability = predict_phishing(email_to_evaluate, model, scaler)\n",
        "# print(f\"The email is predicted as: {prediction} with probability: {probability:.4f}\")\n"
      ],
      "metadata": {
        "trusted": true,
        "id": "q28-AjYOQSM7"
      },
      "outputs": [],
      "execution_count": null
    }
  ]
}